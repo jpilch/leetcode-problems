{
 "cells": [
  {
   "cell_type": "markdown",
   "id": "183aea54",
   "metadata": {},
   "source": [
    "## [217. Contains Duplicate](https://leetcode.com/problems/contains-duplicate/)"
   ]
  },
  {
   "cell_type": "code",
   "execution_count": 1,
   "id": "7a023d86",
   "metadata": {},
   "outputs": [],
   "source": [
    "# solution using hash set, O(N)\n",
    "def containsDuplicate(arr):\n",
    "    s = set()\n",
    "    for n in arr:\n",
    "        if n in s:\n",
    "            return True\n",
    "        s.add(n)\n",
    "    return False"
   ]
  },
  {
   "cell_type": "code",
   "execution_count": 2,
   "id": "232d4162",
   "metadata": {},
   "outputs": [
    {
     "data": {
      "text/plain": [
       "True"
      ]
     },
     "execution_count": 2,
     "metadata": {},
     "output_type": "execute_result"
    }
   ],
   "source": [
    "containsDuplicate([1,2,3,4,5,1])"
   ]
  },
  {
   "cell_type": "markdown",
   "id": "a5d01647",
   "metadata": {},
   "source": [
    "## [219. Contains Duplicate II](https://leetcode.com/problems/contains-duplicate-ii/)"
   ]
  },
  {
   "cell_type": "code",
   "execution_count": 3,
   "id": "2d6ac0df",
   "metadata": {},
   "outputs": [],
   "source": [
    "def containsNearbyDuplicate(arr, k):\n",
    "    s = set()\n",
    "    \n",
    "    for i, n in enumerate(arr):\n",
    "        # remove element outside of range\n",
    "        if i > k: s.remove(arr[i - k - 1]) \n",
    "            \n",
    "        # check if num exists within range\n",
    "        if arr[i] in s: return True\n",
    "        s.add(arr[i])\n",
    "    \n",
    "    return False"
   ]
  },
  {
   "cell_type": "code",
   "execution_count": 4,
   "id": "43876a1f",
   "metadata": {},
   "outputs": [
    {
     "data": {
      "text/plain": [
       "True"
      ]
     },
     "execution_count": 4,
     "metadata": {},
     "output_type": "execute_result"
    }
   ],
   "source": [
    "containsNearbyDuplicate([1,2,3,1], 3)"
   ]
  },
  {
   "cell_type": "code",
   "execution_count": 5,
   "id": "5b5f1963",
   "metadata": {},
   "outputs": [
    {
     "data": {
      "text/plain": [
       "False"
      ]
     },
     "execution_count": 5,
     "metadata": {},
     "output_type": "execute_result"
    }
   ],
   "source": [
    "containsNearbyDuplicate([1,2,3,1,2,3], 2)"
   ]
  },
  {
   "cell_type": "markdown",
   "id": "933709da",
   "metadata": {},
   "source": [
    "## [242. Valid Anagram](https://leetcode.com/problems/valid-anagram/)"
   ]
  },
  {
   "cell_type": "code",
   "execution_count": 6,
   "id": "adb1efdd",
   "metadata": {},
   "outputs": [],
   "source": [
    "# O(N) time solution using hashmaps\n",
    "def isAnagram(s, t):\n",
    "    if (len(s) != len(t)): return False\n",
    "\n",
    "    sMap, tMap = {}, {}\n",
    "    for i in range(len(s)):\n",
    "        if s[i] in sMap:\n",
    "            sMap[s[i]] += 1\n",
    "        else:\n",
    "            sMap[s[i]] = 1\n",
    "        if t[i] in tMap:\n",
    "            tMap[t[i]] += 1\n",
    "        else:\n",
    "            tMap[t[i]] = 1\n",
    "\n",
    "    for sKey in sMap.keys():\n",
    "        if sKey not in tMap \\\n",
    "            or sMap[sKey] != tMap[sKey]: \n",
    "            return False\n",
    "\n",
    "    return True"
   ]
  },
  {
   "cell_type": "code",
   "execution_count": 7,
   "id": "3e6f7ac0",
   "metadata": {},
   "outputs": [
    {
     "data": {
      "text/plain": [
       "True"
      ]
     },
     "execution_count": 7,
     "metadata": {},
     "output_type": "execute_result"
    }
   ],
   "source": [
    "isAnagram(s = \"anagram\", t = \"nagaram\")"
   ]
  },
  {
   "cell_type": "markdown",
   "id": "0acaa272",
   "metadata": {},
   "source": [
    "## [49. Group Anagrams](https://leetcode.com/problems/group-anagrams/)"
   ]
  },
  {
   "cell_type": "code",
   "execution_count": 8,
   "id": "0780eb3f",
   "metadata": {},
   "outputs": [],
   "source": [
    "def groupAnagrams(strs):\n",
    "    map = {}\n",
    "    for s in strs:\n",
    "        key = \"\".join(sorted(s))\n",
    "        if key not in map:\n",
    "            map[key] = []\n",
    "        map[key].append(s)\n",
    "    \n",
    "    res = []\n",
    "    for key in map.keys():\n",
    "        res.append(map[key])\n",
    "        \n",
    "    return res"
   ]
  },
  {
   "cell_type": "code",
   "execution_count": 9,
   "id": "ba3a317f",
   "metadata": {},
   "outputs": [
    {
     "data": {
      "text/plain": [
       "[['eat', 'tea', 'ate'], ['tan', 'nat'], ['bat']]"
      ]
     },
     "execution_count": 9,
     "metadata": {},
     "output_type": "execute_result"
    }
   ],
   "source": [
    "groupAnagrams([\"eat\",\"tea\",\"tan\",\"ate\",\"nat\",\"bat\"])"
   ]
  },
  {
   "cell_type": "markdown",
   "id": "c3fe9781",
   "metadata": {},
   "source": [
    "## [347. Top K Frequent Elements](https://leetcode.com/problems/top-k-frequent-elements/)"
   ]
  },
  {
   "cell_type": "code",
   "execution_count": 10,
   "id": "c2be9ca1",
   "metadata": {},
   "outputs": [],
   "source": [
    "def topKFrequent(arr, k):\n",
    "    freqs = {}\n",
    "    for n in arr:\n",
    "        if n not in freqs:\n",
    "            freqs[n] = 0\n",
    "        freqs[n] += 1\n",
    "    \n",
    "    return list(map(lambda e: e[0], \n",
    "            reversed(sorted(freqs.items(), key= lambda e: e[1]))))[0: k]"
   ]
  },
  {
   "cell_type": "code",
   "execution_count": 11,
   "id": "f51ba4f1",
   "metadata": {},
   "outputs": [
    {
     "data": {
      "text/plain": [
       "[1, 2]"
      ]
     },
     "execution_count": 11,
     "metadata": {},
     "output_type": "execute_result"
    }
   ],
   "source": [
    "topKFrequent([1,1,1,2,2,3], 2)"
   ]
  },
  {
   "cell_type": "markdown",
   "id": "5582173a",
   "metadata": {},
   "source": [
    "## [238. Product of Array Except Self](https://leetcode.com/problems/product-of-array-except-self/)"
   ]
  },
  {
   "cell_type": "code",
   "execution_count": 12,
   "id": "111baefd",
   "metadata": {},
   "outputs": [],
   "source": [
    "# solution using two arrays for storing products before and after, O(N)\n",
    "def productExceptSelf(arr):\n",
    "    prefArr = []    \n",
    "    postArr = []\n",
    "    res = []\n",
    "    currPref = 1\n",
    "    currPost = 1\n",
    "    \n",
    "    for i in range(len(arr)):\n",
    "        prefArr.append(currPref)\n",
    "        postArr.append(currPost)\n",
    "        \n",
    "        currPref *= arr[i]\n",
    "        currPost *= arr[-1-i]\n",
    "    \n",
    "    for i in range(len(arr)):\n",
    "        res.append(prefArr[i] * postArr[-i-1])\n",
    "    \n",
    "    return res"
   ]
  },
  {
   "cell_type": "code",
   "execution_count": 13,
   "id": "d37c1e3f",
   "metadata": {},
   "outputs": [
    {
     "data": {
      "text/plain": [
       "[24, 12, 8, 6]"
      ]
     },
     "execution_count": 13,
     "metadata": {},
     "output_type": "execute_result"
    }
   ],
   "source": [
    "productExceptSelf([1,2,3,4])"
   ]
  },
  {
   "cell_type": "markdown",
   "id": "4a14d93e",
   "metadata": {},
   "source": [
    "## [128. Longest Consecutive Sequence](https://leetcode.com/problems/longest-consecutive-sequence/)"
   ]
  },
  {
   "cell_type": "code",
   "execution_count": 14,
   "id": "7fdb5068",
   "metadata": {},
   "outputs": [],
   "source": [
    "# O(N + M) time, O(N) space\n",
    "def longestConsecutive(arr):\n",
    "    unique = set(arr)\n",
    "    maxLen = 0\n",
    "\n",
    "    for n in unique:\n",
    "        if n - 1 in unique: continue\n",
    "\n",
    "        currN = n\n",
    "        currLen = 1\n",
    "\n",
    "        # this loop only triggered on beggining of a new sequence\n",
    "        while currN + 1 in unique:\n",
    "            currLen += 1\n",
    "            currN += 1\n",
    "\n",
    "        maxLen = max((maxLen, currLen))\n",
    "\n",
    "    return maxLen"
   ]
  },
  {
   "cell_type": "code",
   "execution_count": 15,
   "id": "a4ab4a14",
   "metadata": {},
   "outputs": [
    {
     "data": {
      "text/plain": [
       "9"
      ]
     },
     "execution_count": 15,
     "metadata": {},
     "output_type": "execute_result"
    }
   ],
   "source": [
    "longestConsecutive([0,3,7,2,5,8,4,6,0,1])"
   ]
  },
  {
   "cell_type": "markdown",
   "id": "d62ef672",
   "metadata": {},
   "source": [
    "## [3. Longest Substring Without Repeating Characters](https://leetcode.com/problems/longest-substring-without-repeating-characters/)"
   ]
  },
  {
   "cell_type": "code",
   "execution_count": 16,
   "id": "231bfbf1",
   "metadata": {},
   "outputs": [],
   "source": [
    "# solution using hash map, O(N * M) time complexity, where M => length of current substring\n",
    "def lengthOfLongestSubstring(s):\n",
    "    mapping = {}\n",
    "    \n",
    "    currL, maxL = 0, 0\n",
    "    i = 0\n",
    "    while i < len(s):\n",
    "        currL += 1\n",
    "        c = s[i]\n",
    "\n",
    "        if c in mapping:\n",
    "            i = mapping[c] + 1\n",
    "            mapping = {}\n",
    "            maxL = max((currL - 1, maxL))\n",
    "            currL = 0\n",
    "            continue\n",
    "\n",
    "        mapping[c] = i\n",
    "        i += 1\n",
    "\n",
    "    return max((maxL, currL))"
   ]
  },
  {
   "cell_type": "code",
   "execution_count": 17,
   "id": "6885bc21",
   "metadata": {},
   "outputs": [
    {
     "data": {
      "text/plain": [
       "3"
      ]
     },
     "execution_count": 17,
     "metadata": {},
     "output_type": "execute_result"
    }
   ],
   "source": [
    "lengthOfLongestSubstring(\"abcabcbb\")"
   ]
  },
  {
   "cell_type": "code",
   "execution_count": null,
   "id": "b8a7baad",
   "metadata": {},
   "outputs": [],
   "source": []
  }
 ],
 "metadata": {
  "kernelspec": {
   "display_name": "Python 3 (ipykernel)",
   "language": "python",
   "name": "python3"
  },
  "language_info": {
   "codemirror_mode": {
    "name": "ipython",
    "version": 3
   },
   "file_extension": ".py",
   "mimetype": "text/x-python",
   "name": "python",
   "nbconvert_exporter": "python",
   "pygments_lexer": "ipython3",
   "version": "3.8.10"
  }
 },
 "nbformat": 4,
 "nbformat_minor": 5
}
