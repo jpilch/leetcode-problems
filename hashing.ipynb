{
 "cells": [
  {
   "cell_type": "markdown",
   "id": "183aea54",
   "metadata": {},
   "source": [
    "## [217. Contains Duplicate](https://leetcode.com/problems/contains-duplicate/)"
   ]
  },
  {
   "cell_type": "code",
   "execution_count": 6,
   "id": "7a023d86",
   "metadata": {},
   "outputs": [],
   "source": [
    "# solution using hash set, O(N)\n",
    "def containsDuplicate(arr):\n",
    "    s = set()\n",
    "    for n in arr:\n",
    "        if n in s:\n",
    "            return True\n",
    "        s.add(n)\n",
    "    return False"
   ]
  },
  {
   "cell_type": "code",
   "execution_count": 7,
   "id": "232d4162",
   "metadata": {},
   "outputs": [
    {
     "data": {
      "text/plain": [
       "True"
      ]
     },
     "execution_count": 7,
     "metadata": {},
     "output_type": "execute_result"
    }
   ],
   "source": [
    "containsDuplicate([1,2,3,4,5,1])"
   ]
  },
  {
   "cell_type": "markdown",
   "id": "a5d01647",
   "metadata": {},
   "source": [
    "## [219. Contains Duplicate II](https://leetcode.com/problems/contains-duplicate-ii/)"
   ]
  },
  {
   "cell_type": "code",
   "execution_count": 11,
   "id": "2d6ac0df",
   "metadata": {},
   "outputs": [],
   "source": [
    "def containsNearbyDuplicate(arr, k):\n",
    "    s = set()\n",
    "    \n",
    "    for i, n in enumerate(arr):\n",
    "        # remove element outside of range\n",
    "        if i > k: s.remove(arr[i - k - 1]) \n",
    "            \n",
    "        # check if num exists within range\n",
    "        if arr[i] in s: return True\n",
    "        s.add(arr[i])\n",
    "    \n",
    "    return False"
   ]
  },
  {
   "cell_type": "code",
   "execution_count": 12,
   "id": "43876a1f",
   "metadata": {},
   "outputs": [
    {
     "data": {
      "text/plain": [
       "True"
      ]
     },
     "execution_count": 12,
     "metadata": {},
     "output_type": "execute_result"
    }
   ],
   "source": [
    "containsNearbyDuplicate([1,2,3,1], 3)"
   ]
  },
  {
   "cell_type": "code",
   "execution_count": 13,
   "id": "5b5f1963",
   "metadata": {},
   "outputs": [
    {
     "data": {
      "text/plain": [
       "False"
      ]
     },
     "execution_count": 13,
     "metadata": {},
     "output_type": "execute_result"
    }
   ],
   "source": [
    "containsNearbyDuplicate([1,2,3,1,2,3], 2)"
   ]
  },
  {
   "cell_type": "markdown",
   "id": "933709da",
   "metadata": {},
   "source": [
    "## [242. Valid Anagram](https://leetcode.com/problems/valid-anagram/)"
   ]
  },
  {
   "cell_type": "code",
   "execution_count": 1,
   "id": "adb1efdd",
   "metadata": {},
   "outputs": [],
   "source": [
    "# O(N) time solution using hashmaps\n",
    "def isAnagram(s, t):\n",
    "    if (len(s) != len(t)): return False\n",
    "\n",
    "    sMap, tMap = {}, {}\n",
    "    for i in range(len(s)):\n",
    "        if s[i] in sMap:\n",
    "            sMap[s[i]] += 1\n",
    "        else:\n",
    "            sMap[s[i]] = 1\n",
    "        if t[i] in tMap:\n",
    "            tMap[t[i]] += 1\n",
    "        else:\n",
    "            tMap[t[i]] = 1\n",
    "\n",
    "    for sKey in sMap.keys():\n",
    "        if sKey not in tMap \\\n",
    "            or sMap[sKey] != tMap[sKey]: \n",
    "            return False\n",
    "\n",
    "    return True"
   ]
  },
  {
   "cell_type": "code",
   "execution_count": 2,
   "id": "3e6f7ac0",
   "metadata": {},
   "outputs": [
    {
     "data": {
      "text/plain": [
       "True"
      ]
     },
     "execution_count": 2,
     "metadata": {},
     "output_type": "execute_result"
    }
   ],
   "source": [
    "isAnagram(s = \"anagram\", t = \"nagaram\")"
   ]
  },
  {
   "cell_type": "markdown",
   "id": "0acaa272",
   "metadata": {},
   "source": [
    "## [49. Group Anagrams](https://leetcode.com/problems/group-anagrams/)"
   ]
  },
  {
   "cell_type": "code",
   "execution_count": 5,
   "id": "0780eb3f",
   "metadata": {},
   "outputs": [],
   "source": [
    "def groupAnagrams(strs):\n",
    "    map = {}\n",
    "    for s in strs:\n",
    "        key = \"\".join(sorted(s))\n",
    "        if key not in map:\n",
    "            map[key] = []\n",
    "        map[key].append(s)\n",
    "    \n",
    "    res = []\n",
    "    for key in map.keys():\n",
    "        res.append(map[key])\n",
    "        \n",
    "    return res"
   ]
  },
  {
   "cell_type": "code",
   "execution_count": 6,
   "id": "ba3a317f",
   "metadata": {},
   "outputs": [
    {
     "data": {
      "text/plain": [
       "[['eat', 'tea', 'ate'], ['tan', 'nat'], ['bat']]"
      ]
     },
     "execution_count": 6,
     "metadata": {},
     "output_type": "execute_result"
    }
   ],
   "source": [
    "groupAnagrams([\"eat\",\"tea\",\"tan\",\"ate\",\"nat\",\"bat\"])"
   ]
  },
  {
   "cell_type": "markdown",
   "id": "c3fe9781",
   "metadata": {},
   "source": [
    "## [347. Top K Frequent Elements](https://leetcode.com/problems/top-k-frequent-elements/)"
   ]
  },
  {
   "cell_type": "code",
   "execution_count": 22,
   "id": "c2be9ca1",
   "metadata": {},
   "outputs": [],
   "source": [
    "def topKFrequent(arr, k):\n",
    "    freqs = {}\n",
    "    for n in arr:\n",
    "        if n not in freqs:\n",
    "            freqs[n] = 0\n",
    "        freqs[n] += 1\n",
    "    \n",
    "    return list(map(lambda e: e[0], \n",
    "            reversed(sorted(freqs.items(), key= lambda e: e[1]))))[0: k]"
   ]
  },
  {
   "cell_type": "code",
   "execution_count": 23,
   "id": "f51ba4f1",
   "metadata": {},
   "outputs": [
    {
     "data": {
      "text/plain": [
       "[1, 2]"
      ]
     },
     "execution_count": 23,
     "metadata": {},
     "output_type": "execute_result"
    }
   ],
   "source": [
    "topKFrequent([1,1,1,2,2,3], 2)"
   ]
  },
  {
   "cell_type": "code",
   "execution_count": null,
   "id": "c9f498ac",
   "metadata": {},
   "outputs": [],
   "source": []
  }
 ],
 "metadata": {
  "kernelspec": {
   "display_name": "Python 3 (ipykernel)",
   "language": "python",
   "name": "python3"
  },
  "language_info": {
   "codemirror_mode": {
    "name": "ipython",
    "version": 3
   },
   "file_extension": ".py",
   "mimetype": "text/x-python",
   "name": "python",
   "nbconvert_exporter": "python",
   "pygments_lexer": "ipython3",
   "version": "3.10.7"
  }
 },
 "nbformat": 4,
 "nbformat_minor": 5
}
