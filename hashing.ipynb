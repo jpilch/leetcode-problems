{
 "cells": [
  {
   "cell_type": "markdown",
   "id": "183aea54",
   "metadata": {},
   "source": [
    "## [217. Contains Duplicate](https://leetcode.com/problems/contains-duplicate/)"
   ]
  },
  {
   "cell_type": "code",
   "execution_count": 6,
   "id": "7a023d86",
   "metadata": {},
   "outputs": [],
   "source": [
    "# solution using hash set, O(N)\n",
    "def containsDuplicate(arr):\n",
    "    s = set()\n",
    "    for n in arr:\n",
    "        if n in s:\n",
    "            return True\n",
    "        s.add(n)\n",
    "    return False"
   ]
  },
  {
   "cell_type": "code",
   "execution_count": 7,
   "id": "232d4162",
   "metadata": {},
   "outputs": [
    {
     "data": {
      "text/plain": [
       "True"
      ]
     },
     "execution_count": 7,
     "metadata": {},
     "output_type": "execute_result"
    }
   ],
   "source": [
    "containsDuplicate([1,2,3,4,5,1])"
   ]
  },
  {
   "cell_type": "markdown",
   "id": "a5d01647",
   "metadata": {},
   "source": [
    "## [219. Contains Duplicate II](https://leetcode.com/problems/contains-duplicate-ii/)"
   ]
  },
  {
   "cell_type": "code",
   "execution_count": 11,
   "id": "2d6ac0df",
   "metadata": {},
   "outputs": [],
   "source": [
    "def containsNearbyDuplicate(arr, k):\n",
    "    s = set()\n",
    "    \n",
    "    for i, n in enumerate(arr):\n",
    "        # remove element outside of range\n",
    "        if i > k: s.remove(arr[i - k - 1]) \n",
    "            \n",
    "        # check if num exists within range\n",
    "        if arr[i] in s: return True\n",
    "        s.add(arr[i])\n",
    "    \n",
    "    return False"
   ]
  },
  {
   "cell_type": "code",
   "execution_count": 12,
   "id": "43876a1f",
   "metadata": {},
   "outputs": [
    {
     "data": {
      "text/plain": [
       "True"
      ]
     },
     "execution_count": 12,
     "metadata": {},
     "output_type": "execute_result"
    }
   ],
   "source": [
    "containsNearbyDuplicate([1,2,3,1], 3)"
   ]
  },
  {
   "cell_type": "code",
   "execution_count": 13,
   "id": "5b5f1963",
   "metadata": {},
   "outputs": [
    {
     "data": {
      "text/plain": [
       "False"
      ]
     },
     "execution_count": 13,
     "metadata": {},
     "output_type": "execute_result"
    }
   ],
   "source": [
    "containsNearbyDuplicate([1,2,3,1,2,3], 2)"
   ]
  },
  {
   "cell_type": "code",
   "execution_count": null,
   "id": "2e0c998d",
   "metadata": {},
   "outputs": [],
   "source": []
  }
 ],
 "metadata": {
  "kernelspec": {
   "display_name": "Python 3 (ipykernel)",
   "language": "python",
   "name": "python3"
  },
  "language_info": {
   "codemirror_mode": {
    "name": "ipython",
    "version": 3
   },
   "file_extension": ".py",
   "mimetype": "text/x-python",
   "name": "python",
   "nbconvert_exporter": "python",
   "pygments_lexer": "ipython3",
   "version": "3.8.10"
  }
 },
 "nbformat": 4,
 "nbformat_minor": 5
}
