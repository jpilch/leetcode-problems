{
 "cells": [
  {
   "cell_type": "markdown",
   "id": "f66c19c9",
   "metadata": {},
   "source": [
    "## [217. Contains Duplicate](https://leetcode.com/problems/contains-duplicate/)"
   ]
  },
  {
   "cell_type": "code",
   "execution_count": 6,
   "id": "432fc7ff",
   "metadata": {},
   "outputs": [],
   "source": [
    "# solution using hash set, O(N)\n",
    "def containsDuplicate(arr):\n",
    "    s = set()\n",
    "    for n in arr:\n",
    "        if n in s:\n",
    "            return True\n",
    "        s.add(n)\n",
    "    return False"
   ]
  },
  {
   "cell_type": "code",
   "execution_count": 7,
   "id": "ac86b8e8",
   "metadata": {},
   "outputs": [
    {
     "data": {
      "text/plain": [
       "True"
      ]
     },
     "execution_count": 7,
     "metadata": {},
     "output_type": "execute_result"
    }
   ],
   "source": [
    "containsDuplicate([1,2,3,4,5,1])"
   ]
  },
  {
   "cell_type": "markdown",
   "id": "73fc7a6b",
   "metadata": {},
   "source": [
    "## [219. Contains Duplicate II](https://leetcode.com/problems/contains-duplicate-ii/)"
   ]
  },
  {
   "cell_type": "code",
   "execution_count": null,
   "id": "559cda46",
   "metadata": {},
   "outputs": [],
   "source": [
    "def containsNearbyDuplicate(arr, k):\n",
    "    s = set()\n",
    "    \n",
    "    for i, n in enumerate(arr):\n",
    "        # remove element outside of range\n",
    "        if i > k: s.remove(arr[i - k - 1]) \n",
    "            \n",
    "        # check if num exists within range\n",
    "        if arr[i] in s: return True\n",
    "        s.add(arr[i])\n",
    "        "
   ]
  }
 ],
 "metadata": {
  "kernelspec": {
   "display_name": "Python 3 (ipykernel)",
   "language": "python",
   "name": "python3"
  },
  "language_info": {
   "codemirror_mode": {
    "name": "ipython",
    "version": 3
   },
   "file_extension": ".py",
   "mimetype": "text/x-python",
   "name": "python",
   "nbconvert_exporter": "python",
   "pygments_lexer": "ipython3",
   "version": "3.8.10"
  }
 },
 "nbformat": 4,
 "nbformat_minor": 5
}
