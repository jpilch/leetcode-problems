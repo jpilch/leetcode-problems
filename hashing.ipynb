{
 "cells": [
  {
   "cell_type": "markdown",
   "id": "7ecc3413",
   "metadata": {},
   "source": [
    "## [217. Contains Duplicate](https://leetcode.com/problems/contains-duplicate/)"
   ]
  },
  {
   "cell_type": "code",
   "execution_count": 6,
   "id": "78266d7c",
   "metadata": {},
   "outputs": [],
   "source": [
    "# solution using hash set, O(N)\n",
    "def containsDuplicate(arr):\n",
    "    s = set()\n",
    "    for n in arr:\n",
    "        if n in s:\n",
    "            return True\n",
    "        s.add(n)\n",
    "    return False"
   ]
  },
  {
   "cell_type": "code",
   "execution_count": 7,
   "id": "6821640c",
   "metadata": {},
   "outputs": [
    {
     "data": {
      "text/plain": [
       "True"
      ]
     },
     "execution_count": 7,
     "metadata": {},
     "output_type": "execute_result"
    }
   ],
   "source": [
    "containsDuplicate([1,2,3,4,5,1])"
   ]
  },
  {
   "cell_type": "code",
   "execution_count": null,
   "id": "a89c29e1",
   "metadata": {},
   "outputs": [],
   "source": []
  }
 ],
 "metadata": {
  "kernelspec": {
   "display_name": "Python 3 (ipykernel)",
   "language": "python",
   "name": "python3"
  },
  "language_info": {
   "codemirror_mode": {
    "name": "ipython",
    "version": 3
   },
   "file_extension": ".py",
   "mimetype": "text/x-python",
   "name": "python",
   "nbconvert_exporter": "python",
   "pygments_lexer": "ipython3",
   "version": "3.8.10"
  }
 },
 "nbformat": 4,
 "nbformat_minor": 5
}
