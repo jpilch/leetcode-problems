{
 "cells": [
  {
   "cell_type": "code",
   "execution_count": 19,
   "id": "627244e6",
   "metadata": {},
   "outputs": [],
   "source": [
    "class ListNode:\n",
    "    def __init__(self, x, next=None):\n",
    "        self.val = x\n",
    "        self.next = next"
   ]
  },
  {
   "cell_type": "code",
   "execution_count": 20,
   "id": "1730bcf0",
   "metadata": {},
   "outputs": [],
   "source": [
    "n4 = ListNode(4)\n",
    "n3 = ListNode(3, n4)\n",
    "n2 = ListNode(2, n3)\n",
    "n = ListNode(1, n2)\n",
    "n4.next = n"
   ]
  },
  {
   "cell_type": "markdown",
   "id": "95c81723",
   "metadata": {},
   "source": [
    "## 141. Linked List Cycle"
   ]
  },
  {
   "cell_type": "code",
   "execution_count": 21,
   "id": "4da6e5d8",
   "metadata": {},
   "outputs": [],
   "source": [
    "def hasCycle(head):\n",
    "    nodeSet = set()\n",
    "\n",
    "    while (head):\n",
    "        if (head in nodeSet): return True\n",
    "        nodeSet.add(head)\n",
    "        head = head.next\n",
    "\n",
    "    return False"
   ]
  },
  {
   "cell_type": "code",
   "execution_count": 22,
   "id": "1a7889ca",
   "metadata": {},
   "outputs": [
    {
     "data": {
      "text/plain": [
       "True"
      ]
     },
     "execution_count": 22,
     "metadata": {},
     "output_type": "execute_result"
    }
   ],
   "source": [
    "hasCycle(n)"
   ]
  },
  {
   "cell_type": "markdown",
   "id": "a0a99d08",
   "metadata": {},
   "source": [
    "## 142. Linked List Cycle II"
   ]
  },
  {
   "cell_type": "code",
   "execution_count": 5,
   "id": "63dc482d",
   "metadata": {},
   "outputs": [],
   "source": [
    "def detectCycle(head):\n",
    "    nodeSet = set()\n",
    "\n",
    "    while (head):\n",
    "        if (head in nodeSet): return head\n",
    "        nodeSet.add(head)\n",
    "        head = head.next\n",
    "\n",
    "    return None"
   ]
  },
  {
   "cell_type": "code",
   "execution_count": null,
   "id": "910504ed",
   "metadata": {},
   "outputs": [],
   "source": []
  }
 ],
 "metadata": {
  "kernelspec": {
   "display_name": "Python 3 (ipykernel)",
   "language": "python",
   "name": "python3"
  },
  "language_info": {
   "codemirror_mode": {
    "name": "ipython",
    "version": 3
   },
   "file_extension": ".py",
   "mimetype": "text/x-python",
   "name": "python",
   "nbconvert_exporter": "python",
   "pygments_lexer": "ipython3",
   "version": "3.8.10"
  }
 },
 "nbformat": 4,
 "nbformat_minor": 5
}
