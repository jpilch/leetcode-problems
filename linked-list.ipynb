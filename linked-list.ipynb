{
 "cells": [
  {
   "cell_type": "code",
   "execution_count": 22,
   "id": "627244e6",
   "metadata": {},
   "outputs": [],
   "source": [
    "class ListNode:\n",
    "    def __init__(self, x, next=None):\n",
    "        self.val = x\n",
    "        self.next = next"
   ]
  },
  {
   "cell_type": "code",
   "execution_count": 47,
   "id": "1730bcf0",
   "metadata": {},
   "outputs": [],
   "source": [
    "def initList():\n",
    "    n4 = ListNode(4)\n",
    "    n3 = ListNode(3, n4)\n",
    "    n2 = ListNode(2, n3)\n",
    "    return ListNode(1, n2)"
   ]
  },
  {
   "cell_type": "code",
   "execution_count": 32,
   "id": "3b64711f",
   "metadata": {},
   "outputs": [],
   "source": [
    "def printList(head):\n",
    "    while(head.next):\n",
    "        print(str(head.val) + \" -> \", end=\"\")\n",
    "        head = head.next\n",
    "    print(head.val)"
   ]
  },
  {
   "cell_type": "markdown",
   "id": "95c81723",
   "metadata": {},
   "source": [
    "## 141. Linked List Cycle"
   ]
  },
  {
   "cell_type": "code",
   "execution_count": 3,
   "id": "4da6e5d8",
   "metadata": {},
   "outputs": [],
   "source": [
    "def hasCycle(head):\n",
    "    nodeSet = set()\n",
    "\n",
    "    while (head):\n",
    "        if (head in nodeSet): return True\n",
    "        nodeSet.add(head)\n",
    "        head = head.next\n",
    "\n",
    "    return False"
   ]
  },
  {
   "cell_type": "code",
   "execution_count": 4,
   "id": "1a7889ca",
   "metadata": {},
   "outputs": [
    {
     "data": {
      "text/plain": [
       "True"
      ]
     },
     "execution_count": 4,
     "metadata": {},
     "output_type": "execute_result"
    }
   ],
   "source": [
    "hasCycle(n)"
   ]
  },
  {
   "cell_type": "markdown",
   "id": "a0a99d08",
   "metadata": {},
   "source": [
    "## 142. Linked List Cycle II"
   ]
  },
  {
   "cell_type": "code",
   "execution_count": 5,
   "id": "63dc482d",
   "metadata": {},
   "outputs": [],
   "source": [
    "def detectCycle(head):\n",
    "    nodeSet = set()\n",
    "\n",
    "    while (head):\n",
    "        if (head in nodeSet): return head\n",
    "        nodeSet.add(head)\n",
    "        head = head.next\n",
    "\n",
    "    return None"
   ]
  },
  {
   "cell_type": "code",
   "execution_count": 6,
   "id": "910504ed",
   "metadata": {},
   "outputs": [
    {
     "data": {
      "text/plain": [
       "True"
      ]
     },
     "execution_count": 6,
     "metadata": {},
     "output_type": "execute_result"
    }
   ],
   "source": [
    "detectCycle(n) == n"
   ]
  },
  {
   "cell_type": "markdown",
   "id": "5761b85a",
   "metadata": {},
   "source": [
    "## 206. Reverse Linked List"
   ]
  },
  {
   "cell_type": "code",
   "execution_count": 36,
   "id": "65f2f08a",
   "metadata": {},
   "outputs": [],
   "source": [
    "def reverseList(head):    \n",
    "    prev, nxt = None, None\n",
    "    \n",
    "    while (head):\n",
    "        nxt = head.next\n",
    "        head.next = prev\n",
    "        prev = head \n",
    "        head = nxt\n",
    "    \n",
    "    return prev"
   ]
  },
  {
   "cell_type": "code",
   "execution_count": 48,
   "id": "9a993f15",
   "metadata": {},
   "outputs": [
    {
     "name": "stdout",
     "output_type": "stream",
     "text": [
      "1 -> 2 -> 3 -> 4\n"
     ]
    }
   ],
   "source": [
    "n = initList()\n",
    "printList(n)"
   ]
  },
  {
   "cell_type": "code",
   "execution_count": 49,
   "id": "2a6d4289",
   "metadata": {},
   "outputs": [
    {
     "name": "stdout",
     "output_type": "stream",
     "text": [
      "4 -> 3 -> 2 -> 1\n"
     ]
    }
   ],
   "source": [
    "reversed = reverseList(n)\n",
    "printList(reversed)"
   ]
  },
  {
   "cell_type": "code",
   "execution_count": null,
   "id": "1567c958",
   "metadata": {},
   "outputs": [],
   "source": []
  }
 ],
 "metadata": {
  "kernelspec": {
   "display_name": "Python 3 (ipykernel)",
   "language": "python",
   "name": "python3"
  },
  "language_info": {
   "codemirror_mode": {
    "name": "ipython",
    "version": 3
   },
   "file_extension": ".py",
   "mimetype": "text/x-python",
   "name": "python",
   "nbconvert_exporter": "python",
   "pygments_lexer": "ipython3",
   "version": "3.8.10"
  }
 },
 "nbformat": 4,
 "nbformat_minor": 5
}
