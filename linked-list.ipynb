{
 "cells": [
  {
   "cell_type": "code",
   "execution_count": 4,
   "id": "627244e6",
   "metadata": {},
   "outputs": [],
   "source": [
    "class ListNode:\n",
    "    def __init__(self, x):\n",
    "        self.val = x\n",
    "        self.next = None"
   ]
  },
  {
   "attachments": {},
   "cell_type": "markdown",
   "id": "95c81723",
   "metadata": {},
   "source": [
    "## 141. Linked List Cycle"
   ]
  },
  {
   "cell_type": "code",
   "execution_count": 9,
   "id": "4da6e5d8",
   "metadata": {},
   "outputs": [],
   "source": [
    "def hasCycle(head):\n",
    "    nodeSet = set()\n",
    "\n",
    "    while (head):\n",
    "        if (head in nodeSet): return True\n",
    "        nodeSet.add(head)\n",
    "        head = head.next\n",
    "\n",
    "    return False"
   ]
  },
  {
   "cell_type": "code",
   "execution_count": null,
   "id": "f908a71f",
   "metadata": {},
   "outputs": [],
   "source": []
  }
 ],
 "metadata": {
  "kernelspec": {
   "display_name": "Python 3 (ipykernel)",
   "language": "python",
   "name": "python3"
  },
  "language_info": {
   "codemirror_mode": {
    "name": "ipython",
    "version": 3
   },
   "file_extension": ".py",
   "mimetype": "text/x-python",
   "name": "python",
   "nbconvert_exporter": "python",
   "pygments_lexer": "ipython3",
   "version": "3.8.10"
  }
 },
 "nbformat": 4,
 "nbformat_minor": 5
}
