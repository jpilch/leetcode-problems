{
 "cells": [
  {
   "cell_type": "code",
   "execution_count": 11,
   "id": "a9399966",
   "metadata": {},
   "outputs": [],
   "source": [
    "numArr = lambda r: [x for x in range(20 if r else 0, 0 if r else 20, -1 if r else 1)]"
   ]
  },
  {
   "cell_type": "code",
   "execution_count": 13,
   "id": "3f1154d4",
   "metadata": {},
   "outputs": [
    {
     "name": "stdout",
     "output_type": "stream",
     "text": [
      "[0, 1, 2, 3, 4, 5, 6, 7, 8, 9, 10, 11, 12, 13, 14, 15, 16, 17, 18, 19]\n"
     ]
    }
   ],
   "source": [
    "arr = numArr(False)\n",
    "print(arr)"
   ]
  },
  {
   "cell_type": "markdown",
   "id": "7c613862",
   "metadata": {},
   "source": [
    "## [704. Binary Search](https://leetcode.com/problems/binary-search/)"
   ]
  },
  {
   "cell_type": "code",
   "execution_count": 17,
   "id": "2166f7e1",
   "metadata": {},
   "outputs": [],
   "source": [
    "# O(log(N))\n",
    "def search(arr, target):\n",
    "    \n",
    "    l, r, mid = 0, len(arr), 0\n",
    "    \n",
    "    while (l <= r):\n",
    "        mid = l + (r - l) // 2\n",
    "        if (arr[mid] == target): return mid\n",
    "        elif (arr[mid] < target): l = mid\n",
    "        elif (arr[mid] > target): r = mid\n",
    "    \n",
    "    return -1"
   ]
  },
  {
   "cell_type": "code",
   "execution_count": 18,
   "id": "bd9fdd2b",
   "metadata": {},
   "outputs": [
    {
     "data": {
      "text/plain": [
       "10"
      ]
     },
     "execution_count": 18,
     "metadata": {},
     "output_type": "execute_result"
    }
   ],
   "source": [
    "search(arr, 10)"
   ]
  },
  {
   "cell_type": "code",
   "execution_count": null,
   "id": "b49d2c3f",
   "metadata": {},
   "outputs": [],
   "source": []
  }
 ],
 "metadata": {
  "kernelspec": {
   "display_name": "Python 3 (ipykernel)",
   "language": "python",
   "name": "python3"
  },
  "language_info": {
   "codemirror_mode": {
    "name": "ipython",
    "version": 3
   },
   "file_extension": ".py",
   "mimetype": "text/x-python",
   "name": "python",
   "nbconvert_exporter": "python",
   "pygments_lexer": "ipython3",
   "version": "3.8.10"
  }
 },
 "nbformat": 4,
 "nbformat_minor": 5
}
