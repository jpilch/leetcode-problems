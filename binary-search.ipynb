{
 "cells": [
  {
   "cell_type": "code",
   "execution_count": 2,
   "id": "5e01f143",
   "metadata": {},
   "outputs": [],
   "source": [
    "numArr = lambda r, l, u: [x for x in range(u if r else l, l if r else u, -1 if r else 1)]"
   ]
  },
  {
   "cell_type": "code",
   "execution_count": 3,
   "id": "ef56e0d3",
   "metadata": {},
   "outputs": [
    {
     "name": "stdout",
     "output_type": "stream",
     "text": [
      "[0, 1, 2, 3, 4, 5, 6, 7, 8, 9, 10, 11, 12, 13, 14, 15, 16, 17, 18, 19]\n"
     ]
    }
   ],
   "source": [
    "arr = numArr(False, 0, 20)\n",
    "print(arr)"
   ]
  },
  {
   "cell_type": "markdown",
   "id": "695e7412",
   "metadata": {},
   "source": [
    "## [704. Binary Search](https://leetcode.com/problems/binary-search/)"
   ]
  },
  {
   "cell_type": "code",
   "execution_count": 4,
   "id": "0fa8f96b",
   "metadata": {},
   "outputs": [],
   "source": [
    "# iterative, O(log(N))\n",
    "def search(arr, target):\n",
    "    l, r, mid = 0, len(arr) - 1, 0\n",
    "    \n",
    "    while (l <= r):\n",
    "        mid = l + (r - l) // 2\n",
    "        if (arr[mid] == target): return mid\n",
    "        elif (arr[mid] < target): l = mid + 1\n",
    "        elif (arr[mid] > target): r = mid - 1\n",
    "\n",
    "    return -1"
   ]
  },
  {
   "cell_type": "code",
   "execution_count": 5,
   "id": "10823f6c",
   "metadata": {},
   "outputs": [
    {
     "data": {
      "text/plain": [
       "10"
      ]
     },
     "execution_count": 5,
     "metadata": {},
     "output_type": "execute_result"
    }
   ],
   "source": [
    "search(arr, 10)"
   ]
  },
  {
   "cell_type": "code",
   "execution_count": 6,
   "id": "27071a56",
   "metadata": {},
   "outputs": [],
   "source": [
    "# recursive O(log(N))\n",
    "def search(arr, target, l, r):\n",
    "    if (l > r): return -1\n",
    "    mid = l + (r - l) // 2\n",
    "    if (arr[mid] == target): return mid\n",
    "    return search(arr, target, mid + 1, r) if (arr[mid] < target) else search(arr, target, l, mid - 1)   "
   ]
  },
  {
   "cell_type": "code",
   "execution_count": 7,
   "id": "a9a44ea2",
   "metadata": {},
   "outputs": [
    {
     "data": {
      "text/plain": [
       "10"
      ]
     },
     "execution_count": 7,
     "metadata": {},
     "output_type": "execute_result"
    }
   ],
   "source": [
    "search(arr, 10, 0, len(arr) - 1)"
   ]
  },
  {
   "cell_type": "markdown",
   "id": "fba6d100",
   "metadata": {},
   "source": [
    "## [74. Search a 2D Matrix](https://leetcode.com/problems/search-a-2d-matrix/)"
   ]
  },
  {
   "cell_type": "code",
   "execution_count": 8,
   "id": "dfcd0551",
   "metadata": {},
   "outputs": [],
   "source": [
    "# binary search on column 0, then binary search row (if found), O(log(N))\n",
    "def searchMatrix(matrix, target):\n",
    "    colLen, rowLen = len(matrix), len(matrix[0])\n",
    "\n",
    "    targetRowIdx = -1\n",
    "\n",
    "    l, r, mid = 0, colLen - 1, 0\n",
    "    while (l <= r):\n",
    "        mid = l + (r - l) // 2\n",
    "        if (matrix[mid][0] <= target and matrix[mid][rowLen - 1] >= target):\n",
    "            targetRowIdx = mid\n",
    "            break\n",
    "        elif (matrix[mid][0] < target): l = mid + 1\n",
    "        elif (matrix[mid][0] > target): r = mid - 1\n",
    "\n",
    "    if (targetRowIdx == -1): return False\n",
    "\n",
    "    l, r, mid = 0, rowLen - 1, 0\n",
    "    while (l <= r):\n",
    "        mid = l + (r - l) // 2\n",
    "        if (matrix[targetRowIdx][mid] == target): return True\n",
    "        elif (matrix[targetRowIdx][mid] < target): l = mid + 1\n",
    "        elif (matrix[targetRowIdx][mid] > target): r = mid - 1\n",
    "\n",
    "    return False"
   ]
  },
  {
   "cell_type": "code",
   "execution_count": 9,
   "id": "0ef5e8ce",
   "metadata": {},
   "outputs": [
    {
     "data": {
      "text/plain": [
       "True"
      ]
     },
     "execution_count": 9,
     "metadata": {},
     "output_type": "execute_result"
    }
   ],
   "source": [
    "searchMatrix([\n",
    "    numArr(False, 0, 10),\n",
    "    numArr(False, 10, 20),\n",
    "    numArr(False, 20, 30),\n",
    "], 15)"
   ]
  },
  {
   "cell_type": "markdown",
   "id": "65216cb0",
   "metadata": {},
   "source": [
    "## [33. Search in Rotated Sorted Array](https://leetcode.com/problems/search-in-rotated-sorted-array/)"
   ]
  },
  {
   "cell_type": "code",
   "execution_count": 10,
   "id": "f3fb0162",
   "metadata": {},
   "outputs": [],
   "source": [
    "# [4,5,6,7,8,9,0,1,2], t = 9\n",
    "\n",
    "def solution():\n",
    "    def findSmallestIdx(arr):\n",
    "        l, r, mid = 0, len(arr) - 1, 0\n",
    "        while (l < r):\n",
    "            mid = l + (r - l) // 2\n",
    "            if (arr[mid] > arr[r]): \n",
    "                l = mid + 1\n",
    "            else:\n",
    "                r = mid\n",
    "        return l\n",
    "    \n",
    "    def search(arr, target):\n",
    "        # get index of the smallest value - the pivot \n",
    "        smallestIdx = findSmallestIdx(arr)\n",
    "        \n",
    "        # if this does not return then we can omit this check later\n",
    "        if (arr[smallestIdx] == target): return smallestIdx\n",
    "        \n",
    "        # no target in arr\n",
    "        if (target < arr[smallestIdx]): return -1\n",
    "        \n",
    "        l, r, mid = 0, len(arr) - 1, 0\n",
    "        firstIteration = True\n",
    "        while (l <= r):\n",
    "            mid = l + (r - l) // 2\n",
    "            \n",
    "            if (arr[mid] == target): return mid\n",
    "            \n",
    "            # if first iteration and arr is rotated\n",
    "            # determine which half to perform search on\n",
    "            if (firstIteration and arr[l] > arr[r]):\n",
    "                if (target <= arr[r]):\n",
    "                    l = smallestIdx\n",
    "                elif (target >= arr[l]):\n",
    "                    r = smallestIdx\n",
    "                firstIteration = False\n",
    "                continue\n",
    "            \n",
    "            # we have the correct half\n",
    "            # now only update pointers\n",
    "            if (target < arr[mid]): r = mid - 1\n",
    "            else: l = mid + 1\n",
    "                \n",
    "        return -1\n",
    "    \n",
    "    return search\n"
   ]
  },
  {
   "cell_type": "code",
   "execution_count": 11,
   "id": "9a8d0776",
   "metadata": {},
   "outputs": [
    {
     "data": {
      "text/plain": [
       "4"
      ]
     },
     "execution_count": 11,
     "metadata": {},
     "output_type": "execute_result"
    }
   ],
   "source": [
    "search = solution()\n",
    "search([4,5,6,7,0,1,2], 0)"
   ]
  },
  {
   "cell_type": "code",
   "execution_count": 12,
   "id": "c74d3ab4",
   "metadata": {},
   "outputs": [
    {
     "data": {
      "text/plain": [
       "-1"
      ]
     },
     "execution_count": 12,
     "metadata": {},
     "output_type": "execute_result"
    }
   ],
   "source": [
    "search([4,5,6,7,0,1,2], 3)"
   ]
  },
  {
   "cell_type": "markdown",
   "id": "52bf5b83",
   "metadata": {},
   "source": [
    "## [153. Find Minimum in Rotated Sorted Array](https://leetcode.com/problems/find-minimum-in-rotated-sorted-array/)"
   ]
  },
  {
   "cell_type": "code",
   "execution_count": 13,
   "id": "131a787c",
   "metadata": {},
   "outputs": [],
   "source": [
    "def findMin(arr):\n",
    "    # arr was not rotated or len(arr) == 1\n",
    "    if (arr[0] <= arr[len(arr) - 1]):\n",
    "        return arr[0]\n",
    "    \n",
    "    # binary search to find the smallest\n",
    "    l, r, mid = 0, len(arr) - 1, 0\n",
    "    while (l < r):\n",
    "        mid = l + (r - l) // 2\n",
    "        if (arr[mid] > arr[r]):\n",
    "            l = mid + 1\n",
    "        else: r = mid\n",
    "    \n",
    "    return arr[l]"
   ]
  },
  {
   "cell_type": "code",
   "execution_count": 14,
   "id": "ad770caa",
   "metadata": {},
   "outputs": [
    {
     "data": {
      "text/plain": [
       "0"
      ]
     },
     "execution_count": 14,
     "metadata": {},
     "output_type": "execute_result"
    }
   ],
   "source": [
    "findMin([4,5,6,7,0,1,2])"
   ]
  },
  {
   "cell_type": "markdown",
   "id": "e0b52a39",
   "metadata": {},
   "source": [
    "## [981. Time Based Key-Value Store](https://leetcode.com/problems/time-based-key-value-store/)"
   ]
  },
  {
   "cell_type": "code",
   "execution_count": 61,
   "id": "5f751711",
   "metadata": {},
   "outputs": [],
   "source": [
    "class TimeMap:\n",
    "\n",
    "    def __init__(self):      \n",
    "        self.map = {}\n",
    "\n",
    "    def set(self, key, value, timestamp):\n",
    "        if key not in self.map: \n",
    "            self.map[key] = {\n",
    "                \"timestamps\": [],\n",
    "                \"values\": []\n",
    "            }\n",
    "        self.map[key][\"timestamps\"].append(timestamp)\n",
    "        self.map[key][\"values\"].append(value)\n",
    "        \n",
    "    def get(self, key, timestamp):\n",
    "        if key not in self.map: return \"\"\n",
    "        \n",
    "        # shorter names\n",
    "        timestamps = self.map[key][\"timestamps\"]\n",
    "        values = self.map[key][\"values\"]\n",
    "        \n",
    "        # timestamp too low\n",
    "        if timestamps[0] > timestamp: return \"\"\n",
    "        \n",
    "        if timestamps[-1] < timestamp: \n",
    "            return values[-1]\n",
    "                \n",
    "        l, r, mid = 0, len(timestamps) - 1, 0\n",
    "        while (l <= r):\n",
    "            mid = l + (r - l) // 2\n",
    "            if (timestamps[mid] == timestamp):\n",
    "                return values[mid]\n",
    "            if (r == l): \n",
    "                break\n",
    "            if (timestamps[mid] > timestamp): \n",
    "                r = mid - 1\n",
    "            elif (timestamps[mid] < timestamp): \n",
    "                l = mid + 1\n",
    "        \n",
    "        return values[l] if timestamps[l] < timestamp \\\n",
    "            else values[l - 1]"
   ]
  },
  {
   "cell_type": "code",
   "execution_count": 62,
   "id": "0b16bb12",
   "metadata": {},
   "outputs": [],
   "source": [
    "timeMap = TimeMap()\n",
    "timeMap.set(\"foo\", \"bar\", 1)"
   ]
  },
  {
   "cell_type": "code",
   "execution_count": 63,
   "id": "42613bf4",
   "metadata": {},
   "outputs": [
    {
     "data": {
      "text/plain": [
       "'bar'"
      ]
     },
     "execution_count": 63,
     "metadata": {},
     "output_type": "execute_result"
    }
   ],
   "source": [
    "timeMap.get(\"foo\", 1)"
   ]
  },
  {
   "cell_type": "code",
   "execution_count": 64,
   "id": "122ca4d0",
   "metadata": {},
   "outputs": [
    {
     "data": {
      "text/plain": [
       "'bar'"
      ]
     },
     "execution_count": 64,
     "metadata": {},
     "output_type": "execute_result"
    }
   ],
   "source": [
    "timeMap.get(\"foo\", 3)"
   ]
  },
  {
   "cell_type": "code",
   "execution_count": 65,
   "id": "f51a2564",
   "metadata": {},
   "outputs": [],
   "source": [
    "timeMap.set(\"foo\", \"bar2\", 4)"
   ]
  },
  {
   "cell_type": "code",
   "execution_count": 66,
   "id": "712b4323",
   "metadata": {},
   "outputs": [
    {
     "data": {
      "text/plain": [
       "'bar2'"
      ]
     },
     "execution_count": 66,
     "metadata": {},
     "output_type": "execute_result"
    }
   ],
   "source": [
    "timeMap.get(\"foo\", 4)"
   ]
  },
  {
   "cell_type": "code",
   "execution_count": 67,
   "id": "b892a28b",
   "metadata": {},
   "outputs": [
    {
     "data": {
      "text/plain": [
       "'bar2'"
      ]
     },
     "execution_count": 67,
     "metadata": {},
     "output_type": "execute_result"
    }
   ],
   "source": [
    "timeMap.get(\"foo\", 5) "
   ]
  },
  {
   "cell_type": "code",
   "execution_count": null,
   "id": "0326e7fe",
   "metadata": {},
   "outputs": [],
   "source": []
  },
  {
   "cell_type": "code",
   "execution_count": null,
   "id": "a27d19c4",
   "metadata": {},
   "outputs": [],
   "source": []
  }
 ],
 "metadata": {
  "kernelspec": {
   "display_name": "Python 3 (ipykernel)",
   "language": "python",
   "name": "python3"
  },
  "language_info": {
   "codemirror_mode": {
    "name": "ipython",
    "version": 3
   },
   "file_extension": ".py",
   "mimetype": "text/x-python",
   "name": "python",
   "nbconvert_exporter": "python",
   "pygments_lexer": "ipython3",
   "version": "3.8.10"
  }
 },
 "nbformat": 4,
 "nbformat_minor": 5
}
