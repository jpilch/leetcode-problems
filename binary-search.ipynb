{
 "cells": [
  {
   "cell_type": "code",
   "execution_count": 7,
   "id": "5e01f143",
   "metadata": {},
   "outputs": [],
   "source": [
    "numArr = lambda r, l, u: [x for x in range(u if r else l, l if r else u, -1 if r else 1)]"
   ]
  },
  {
   "cell_type": "code",
   "execution_count": 8,
   "id": "ef56e0d3",
   "metadata": {},
   "outputs": [
    {
     "name": "stdout",
     "output_type": "stream",
     "text": [
      "[0, 1, 2, 3, 4, 5, 6, 7, 8, 9, 10, 11, 12, 13, 14, 15, 16, 17, 18, 19]\n"
     ]
    }
   ],
   "source": [
    "arr = numArr(False, 0, 20)\n",
    "print(arr)"
   ]
  },
  {
   "cell_type": "markdown",
   "id": "695e7412",
   "metadata": {},
   "source": [
    "## [704. Binary Search](https://leetcode.com/problems/binary-search/)"
   ]
  },
  {
   "cell_type": "code",
   "execution_count": 9,
   "id": "0fa8f96b",
   "metadata": {},
   "outputs": [],
   "source": [
    "# iterative, O(log(N))\n",
    "def search(arr, target):\n",
    "    l, r, mid = 0, len(arr) - 1, 0\n",
    "    \n",
    "    while (l <= r):\n",
    "        mid = l + (r - l) // 2\n",
    "        if (arr[mid] == target): return mid\n",
    "        elif (arr[mid] < target): l = mid + 1\n",
    "        elif (arr[mid] > target): r = mid - 1\n",
    "\n",
    "    return -1"
   ]
  },
  {
   "cell_type": "code",
   "execution_count": 10,
   "id": "10823f6c",
   "metadata": {},
   "outputs": [
    {
     "data": {
      "text/plain": [
       "10"
      ]
     },
     "execution_count": 10,
     "metadata": {},
     "output_type": "execute_result"
    }
   ],
   "source": [
    "search(arr, 10)"
   ]
  },
  {
   "cell_type": "code",
   "execution_count": 11,
   "id": "27071a56",
   "metadata": {},
   "outputs": [],
   "source": [
    "# recursive O(log(N))\n",
    "def search(arr, target, l, r):\n",
    "    if (l > r): return -1\n",
    "    mid = l + (r - l) // 2\n",
    "    if (arr[mid] == target): return mid\n",
    "    return search(arr, target, mid + 1, r) if (arr[mid] < target) else search(arr, target, l, mid - 1)   "
   ]
  },
  {
   "cell_type": "code",
   "execution_count": 12,
   "id": "a9a44ea2",
   "metadata": {},
   "outputs": [
    {
     "data": {
      "text/plain": [
       "10"
      ]
     },
     "execution_count": 12,
     "metadata": {},
     "output_type": "execute_result"
    }
   ],
   "source": [
    "search(arr, 10, 0, len(arr) - 1)"
   ]
  },
  {
   "cell_type": "markdown",
   "id": "92c1ea2e",
   "metadata": {},
   "source": [
    "## [74. Search a 2D Matrix](https://leetcode.com/problems/search-a-2d-matrix/)"
   ]
  },
  {
   "cell_type": "code",
   "execution_count": 13,
   "id": "a63987bc",
   "metadata": {},
   "outputs": [],
   "source": [
    "# binary search on column 0, then binary search row (if found), O(log(N))\n",
    "def searchMatrix(matrix, target):\n",
    "        colLen, rowLen = len(matrix), len(matrix[0])\n",
    "        \n",
    "        targetRowIdx = -1\n",
    "        \n",
    "        l, r, mid = 0, colLen - 1, 0\n",
    "        while (l <= r):\n",
    "            mid = l + (r - l) // 2\n",
    "            if (matrix[mid][0] <= target and matrix[mid][rowLen - 1] >= target):\n",
    "                targetRowIdx = mid\n",
    "                break\n",
    "            elif (matrix[mid][0] < target): l = mid + 1\n",
    "            elif (matrix[mid][0] > target): r = mid - 1\n",
    "            \n",
    "        if (targetRowIdx == -1): return False\n",
    "        \n",
    "        l, r, mid = 0, rowLen - 1, 0\n",
    "        while (l <= r):\n",
    "            mid = l + (r - l) // 2\n",
    "            if (matrix[targetRowIdx][mid] == target): return True\n",
    "            elif (matrix[targetRowIdx][mid] < target): l = mid + 1\n",
    "            elif (matrix[targetRowIdx][mid] > target): r = mid - 1\n",
    "                \n",
    "        return False"
   ]
  },
  {
   "cell_type": "code",
   "execution_count": 14,
   "id": "8bd05278",
   "metadata": {},
   "outputs": [
    {
     "data": {
      "text/plain": [
       "True"
      ]
     },
     "execution_count": 14,
     "metadata": {},
     "output_type": "execute_result"
    }
   ],
   "source": [
    "searchMatrix([\n",
    "    numArr(False, 0, 10),\n",
    "    numArr(False, 10, 20),\n",
    "    numArr(False, 20, 30),\n",
    "], 15)"
   ]
  },
  {
   "cell_type": "code",
   "execution_count": null,
   "id": "2f14145b",
   "metadata": {},
   "outputs": [],
   "source": []
  }
 ],
 "metadata": {
  "kernelspec": {
   "display_name": "Python 3 (ipykernel)",
   "language": "python",
   "name": "python3"
  },
  "language_info": {
   "codemirror_mode": {
    "name": "ipython",
    "version": 3
   },
   "file_extension": ".py",
   "mimetype": "text/x-python",
   "name": "python",
   "nbconvert_exporter": "python",
   "pygments_lexer": "ipython3",
   "version": "3.8.10"
  }
 },
 "nbformat": 4,
 "nbformat_minor": 5
}
