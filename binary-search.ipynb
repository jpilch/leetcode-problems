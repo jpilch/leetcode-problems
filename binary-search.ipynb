{
 "cells": [
  {
   "cell_type": "code",
   "execution_count": 18,
   "id": "5e01f143",
   "metadata": {},
   "outputs": [],
   "source": [
    "numArr = lambda r, l, u: [x for x in range(u if r else l, l if r else u, -1 if r else 1)]"
   ]
  },
  {
   "cell_type": "code",
   "execution_count": 19,
   "id": "ef56e0d3",
   "metadata": {},
   "outputs": [
    {
     "name": "stdout",
     "output_type": "stream",
     "text": [
      "[0, 1, 2, 3, 4, 5, 6, 7, 8, 9, 10, 11, 12, 13, 14, 15, 16, 17, 18, 19]\n"
     ]
    }
   ],
   "source": [
    "arr = numArr(False, 0, 20)\n",
    "print(arr)"
   ]
  },
  {
   "cell_type": "markdown",
   "id": "695e7412",
   "metadata": {},
   "source": [
    "## [704. Binary Search](https://leetcode.com/problems/binary-search/)"
   ]
  },
  {
   "cell_type": "code",
   "execution_count": 20,
   "id": "0fa8f96b",
   "metadata": {},
   "outputs": [],
   "source": [
    "# iterative, O(log(N))\n",
    "def search(arr, target):\n",
    "    l, r, mid = 0, len(arr) - 1, 0\n",
    "    \n",
    "    while (l <= r):\n",
    "        mid = l + (r - l) // 2\n",
    "        if (arr[mid] == target): return mid\n",
    "        elif (arr[mid] < target): l = mid + 1\n",
    "        elif (arr[mid] > target): r = mid - 1\n",
    "\n",
    "    return -1"
   ]
  },
  {
   "cell_type": "code",
   "execution_count": 21,
   "id": "10823f6c",
   "metadata": {},
   "outputs": [
    {
     "data": {
      "text/plain": [
       "10"
      ]
     },
     "execution_count": 21,
     "metadata": {},
     "output_type": "execute_result"
    }
   ],
   "source": [
    "search(arr, 10)"
   ]
  },
  {
   "cell_type": "code",
   "execution_count": 22,
   "id": "27071a56",
   "metadata": {},
   "outputs": [],
   "source": [
    "# recursive O(log(N))\n",
    "def search(arr, target, l, r):\n",
    "    if (l > r): return -1\n",
    "    mid = l + (r - l) // 2\n",
    "    if (arr[mid] == target): return mid\n",
    "    return search(arr, target, mid + 1, r) if (arr[mid] < target) else search(arr, target, l, mid - 1)   "
   ]
  },
  {
   "cell_type": "code",
   "execution_count": 23,
   "id": "a9a44ea2",
   "metadata": {},
   "outputs": [
    {
     "data": {
      "text/plain": [
       "10"
      ]
     },
     "execution_count": 23,
     "metadata": {},
     "output_type": "execute_result"
    }
   ],
   "source": [
    "search(arr, 10, 0, len(arr) - 1)"
   ]
  },
  {
   "cell_type": "markdown",
   "id": "fba6d100",
   "metadata": {},
   "source": [
    "## [74. Search a 2D Matrix](https://leetcode.com/problems/search-a-2d-matrix/)"
   ]
  },
  {
   "cell_type": "code",
   "execution_count": 24,
   "id": "dfcd0551",
   "metadata": {},
   "outputs": [],
   "source": [
    "# binary search on column 0, then binary search row (if found), O(log(N))\n",
    "def searchMatrix(matrix, target):\n",
    "    colLen, rowLen = len(matrix), len(matrix[0])\n",
    "\n",
    "    targetRowIdx = -1\n",
    "\n",
    "    l, r, mid = 0, colLen - 1, 0\n",
    "    while (l <= r):\n",
    "        mid = l + (r - l) // 2\n",
    "        if (matrix[mid][0] <= target and matrix[mid][rowLen - 1] >= target):\n",
    "            targetRowIdx = mid\n",
    "            break\n",
    "        elif (matrix[mid][0] < target): l = mid + 1\n",
    "        elif (matrix[mid][0] > target): r = mid - 1\n",
    "\n",
    "    if (targetRowIdx == -1): return False\n",
    "\n",
    "    l, r, mid = 0, rowLen - 1, 0\n",
    "    while (l <= r):\n",
    "        mid = l + (r - l) // 2\n",
    "        if (matrix[targetRowIdx][mid] == target): return True\n",
    "        elif (matrix[targetRowIdx][mid] < target): l = mid + 1\n",
    "        elif (matrix[targetRowIdx][mid] > target): r = mid - 1\n",
    "\n",
    "    return False"
   ]
  },
  {
   "cell_type": "code",
   "execution_count": 25,
   "id": "0ef5e8ce",
   "metadata": {},
   "outputs": [
    {
     "data": {
      "text/plain": [
       "True"
      ]
     },
     "execution_count": 25,
     "metadata": {},
     "output_type": "execute_result"
    }
   ],
   "source": [
    "searchMatrix([\n",
    "    numArr(False, 0, 10),\n",
    "    numArr(False, 10, 20),\n",
    "    numArr(False, 20, 30),\n",
    "], 15)"
   ]
  },
  {
   "cell_type": "markdown",
   "id": "65216cb0",
   "metadata": {},
   "source": [
    "## [33. Search in Rotated Sorted Array](https://leetcode.com/problems/search-in-rotated-sorted-array/)"
   ]
  },
  {
   "cell_type": "code",
   "execution_count": 26,
   "id": "f3fb0162",
   "metadata": {},
   "outputs": [],
   "source": [
    "# [4,5,6,7,8,9,0,1,2], t = 9\n",
    "\n",
    "def solution():\n",
    "    def findSmallestIdx(arr):\n",
    "        l, r, mid = 0, len(arr) - 1, 0\n",
    "        while (l < r):\n",
    "            mid = l + (r - l) // 2\n",
    "            if (arr[mid] > arr[r]): \n",
    "                l = mid + 1\n",
    "            else:\n",
    "                r = mid\n",
    "        return l\n",
    "    \n",
    "    def search(arr, target):\n",
    "        # get index of the smallest value - the pivot \n",
    "        smallestIdx = findSmallestIdx(arr)\n",
    "        \n",
    "        # if this does not return then we can omit this check later\n",
    "        if (arr[smallestIdx] == target): return smallestIdx\n",
    "        \n",
    "        # no target in arr\n",
    "        if (target < arr[smallestIdx]): return -1\n",
    "        \n",
    "        l, r, mid = 0, len(arr) - 1, 0\n",
    "        firstIteration = True\n",
    "        while (l <= r):\n",
    "            mid = l + (r - l) // 2\n",
    "            \n",
    "            if (arr[mid] == target): return mid\n",
    "            \n",
    "            # if first iteration and arr is rotated\n",
    "            # determine which half to perform search on\n",
    "            if (firstIteration and arr[l] > arr[r]):\n",
    "                if (target <= arr[r]):\n",
    "                    l = smallestIdx\n",
    "                elif (target >= arr[l]):\n",
    "                    r = smallestIdx\n",
    "                firstIteration = False\n",
    "                continue\n",
    "            \n",
    "            # we have the correct half\n",
    "            # now only update pointers\n",
    "            if (target < arr[mid]): r = mid - 1\n",
    "            else: l = mid + 1\n",
    "                \n",
    "        return -1\n",
    "    \n",
    "    return search\n"
   ]
  },
  {
   "cell_type": "code",
   "execution_count": 27,
   "id": "9a8d0776",
   "metadata": {},
   "outputs": [
    {
     "data": {
      "text/plain": [
       "4"
      ]
     },
     "execution_count": 27,
     "metadata": {},
     "output_type": "execute_result"
    }
   ],
   "source": [
    "search = solution()\n",
    "search([4,5,6,7,0,1,2], 0)"
   ]
  },
  {
   "cell_type": "code",
   "execution_count": 28,
   "id": "c74d3ab4",
   "metadata": {},
   "outputs": [
    {
     "data": {
      "text/plain": [
       "-1"
      ]
     },
     "execution_count": 28,
     "metadata": {},
     "output_type": "execute_result"
    }
   ],
   "source": [
    "search([4,5,6,7,0,1,2], 3)"
   ]
  },
  {
   "cell_type": "markdown",
   "id": "52bf5b83",
   "metadata": {},
   "source": [
    "## [153. Find Minimum in Rotated Sorted Array](https://leetcode.com/problems/find-minimum-in-rotated-sorted-array/)"
   ]
  },
  {
   "cell_type": "code",
   "execution_count": 29,
   "id": "131a787c",
   "metadata": {},
   "outputs": [],
   "source": [
    "def findMin(arr):\n",
    "    # arr was not rotated or len(arr) == 1\n",
    "    if (arr[0] <= arr[len(arr) - 1]):\n",
    "        return arr[0]\n",
    "    \n",
    "    # binary search to find the smallest\n",
    "    l, r, mid = 0, len(arr) - 1, 0\n",
    "    while (l < r):\n",
    "        mid = l + (r - l) // 2\n",
    "        if (arr[mid] > arr[r]):\n",
    "            l = mid + 1\n",
    "        else: r = mid\n",
    "    \n",
    "    return arr[l]"
   ]
  },
  {
   "cell_type": "code",
   "execution_count": 30,
   "id": "ad770caa",
   "metadata": {},
   "outputs": [
    {
     "data": {
      "text/plain": [
       "0"
      ]
     },
     "execution_count": 30,
     "metadata": {},
     "output_type": "execute_result"
    }
   ],
   "source": [
    "findMin([4,5,6,7,0,1,2])"
   ]
  },
  {
   "cell_type": "markdown",
   "id": "e0b52a39",
   "metadata": {},
   "source": [
    "## [981. Time Based Key-Value Store](https://leetcode.com/problems/time-based-key-value-store/)"
   ]
  },
  {
   "cell_type": "code",
   "execution_count": 35,
   "id": "5f751711",
   "metadata": {},
   "outputs": [
    {
     "ename": "IndentationError",
     "evalue": "expected an indented block after 'if' statement on line 57 (604529184.py, line 60)",
     "output_type": "error",
     "traceback": [
      "\u001b[0;36m  Cell \u001b[0;32mIn [35], line 60\u001b[0;36m\u001b[0m\n\u001b[0;31m    return self.map[key][\"values\"][timestampIdx]\u001b[0m\n\u001b[0m    ^\u001b[0m\n\u001b[0;31mIndentationError\u001b[0m\u001b[0;31m:\u001b[0m expected an indented block after 'if' statement on line 57\n"
     ]
    }
   ],
   "source": [
    "class TimeMap:\n",
    "\n",
    "    def __init__(self):      \n",
    "        self.map = {}\n",
    "    \n",
    "\n",
    "    def set(self, key: str, value: str, timestamp: int) -> None:\n",
    "        if key not in self.map: \n",
    "            self.map[key] = {\n",
    "                \"timestamps\": [],\n",
    "                \"values\": []\n",
    "            }\n",
    "        self.map[key][\"timestamps\"].append(timestamp)\n",
    "        self.map[key][\"values\"].append(value)\n",
    "\n",
    "        \n",
    "    def get(self, key: str, timestamp: int) -> str:\n",
    "        # no values set for key\n",
    "        if not self.map[key]: return \"\"\n",
    "        \n",
    "        arr = self.map[key][\"timestamps\"]\n",
    "        timestampIdx = -1\n",
    "        \n",
    "        \n",
    "        # [1, 2, 3, 6, 8, 13]\n",
    "        # get(t=7)\n",
    "        # run against target, if not found\n",
    "        # run until arr[l] < target and arr[r] > target\n",
    "        # return l\n",
    "        l, r, mid = 0, len(arr) - 1, 0\n",
    "        while (l <= r):\n",
    "            mid = l + (r - l) // 2\n",
    "            if (arr[mid] == timestamp):\n",
    "                timestampIdx = mid\n",
    "                break\n",
    "            if (arr[mid] > timestamp): r = mid - 1\n",
    "            elif (arr[mid] < timestamp): l = mid + 1\n",
    "        \n",
    "        # exact timestamp found\n",
    "        if (timestamp != -1):\n",
    "            return self.map[key][\"values\"][timestampIdx]\n",
    "        \n",
    "        \n",
    "        l, r = 0, len(arr) -1\n",
    "        while (l < r):\n",
    "            mid = l + (r - l) // 2\n",
    "            if (arr[mid] > timestamp): r = mid\n",
    "            else: l = mid + 1\n",
    "            \n",
    "            if (arr[l] < timestamp and arr[r] > timestamp):\n",
    "                timestampIdx = l\n",
    "                break\n",
    "        \n",
    "        \n",
    "        return self.map[key][\"values\"][timestampIdx] if timestampIdx != -1 else \"\"\n",
    "        \n",
    "        \n",
    "        "
   ]
  },
  {
   "cell_type": "code",
   "execution_count": null,
   "id": "0b16bb12",
   "metadata": {},
   "outputs": [],
   "source": [
    "mid"
   ]
  }
 ],
 "metadata": {
  "kernelspec": {
   "display_name": "Python 3 (ipykernel)",
   "language": "python",
   "name": "python3"
  },
  "language_info": {
   "codemirror_mode": {
    "name": "ipython",
    "version": 3
   },
   "file_extension": ".py",
   "mimetype": "text/x-python",
   "name": "python",
   "nbconvert_exporter": "python",
   "pygments_lexer": "ipython3",
   "version": "3.10.7"
  }
 },
 "nbformat": 4,
 "nbformat_minor": 5
}
