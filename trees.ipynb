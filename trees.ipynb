{
 "cells": [
  {
   "cell_type": "code",
   "execution_count": 4,
   "id": "2779307e",
   "metadata": {},
   "outputs": [],
   "source": [
    "class TreeNode:\n",
    "    def __init__(self, val=0, \n",
    "                 left=None, \n",
    "                 right=None):\n",
    "        self.val = val\n",
    "        self.left = left\n",
    "        self.right = right"
   ]
  },
  {
   "cell_type": "code",
   "execution_count": 5,
   "id": "27539724",
   "metadata": {},
   "outputs": [],
   "source": [
    "def initTree():\n",
    "    left = TreeNode(2)\n",
    "    left.left = TreeNode(4)\n",
    "    left.right = TreeNode(5)\n",
    "    right = TreeNode(3)\n",
    "    right.left = TreeNode(6)\n",
    "    right.right = TreeNode(7)\n",
    "    root = TreeNode(1, left, right)\n",
    "    return root"
   ]
  },
  {
   "cell_type": "code",
   "execution_count": 6,
   "id": "8b56435a",
   "metadata": {},
   "outputs": [],
   "source": [
    "def printTree(root=None):\n",
    "    if not root: return\n",
    "    print(root.val, end =\" \")\n",
    "    printTree(root.left)    \n",
    "    printTree(root.right)"
   ]
  },
  {
   "cell_type": "code",
   "execution_count": 7,
   "id": "6e7db305",
   "metadata": {},
   "outputs": [
    {
     "name": "stdout",
     "output_type": "stream",
     "text": [
      "1 2 4 5 3 6 7 "
     ]
    }
   ],
   "source": [
    "t = initTree()\n",
    "printTree(t)"
   ]
  },
  {
   "cell_type": "markdown",
   "id": "8232e5ef",
   "metadata": {},
   "source": [
    "## 226. Invert Binary Tree"
   ]
  },
  {
   "cell_type": "code",
   "execution_count": 8,
   "id": "5ec65e0d",
   "metadata": {},
   "outputs": [],
   "source": [
    "def invertTree(root):\n",
    "    if not root: return\n",
    "    left = root.left\n",
    "    right = root.right\n",
    "    root.right = left\n",
    "    root.left = right\n",
    "    invertTree(root.left)\n",
    "    invertTree(root.right)\n",
    "    return root"
   ]
  },
  {
   "cell_type": "code",
   "execution_count": 9,
   "id": "23f3c5e1",
   "metadata": {},
   "outputs": [
    {
     "name": "stdout",
     "output_type": "stream",
     "text": [
      "1 2 4 5 3 6 7 "
     ]
    }
   ],
   "source": [
    "root = initTree()\n",
    "printTree(root)"
   ]
  },
  {
   "cell_type": "code",
   "execution_count": 10,
   "id": "01197f1c",
   "metadata": {},
   "outputs": [
    {
     "name": "stdout",
     "output_type": "stream",
     "text": [
      "1 3 7 6 2 5 4 "
     ]
    }
   ],
   "source": [
    "invertTree(root)\n",
    "printTree(root)"
   ]
  },
  {
   "cell_type": "markdown",
   "id": "3ed00b54",
   "metadata": {},
   "source": [
    "## 104. Maximum Depth of Binary Tree"
   ]
  },
  {
   "cell_type": "code",
   "execution_count": 11,
   "id": "2ba97cdb",
   "metadata": {},
   "outputs": [],
   "source": [
    "def maxDepth(root):\n",
    "    if not root: return 0\n",
    "    leftDepth = 1 + maxDepth(root.left)        \n",
    "    rightDepth = 1 + maxDepth(root.right)\n",
    "    return leftDepth if leftDepth >= rightDepth else rightDepth"
   ]
  },
  {
   "cell_type": "code",
   "execution_count": 12,
   "id": "4d6aab0f",
   "metadata": {},
   "outputs": [
    {
     "data": {
      "text/plain": [
       "3"
      ]
     },
     "execution_count": 12,
     "metadata": {},
     "output_type": "execute_result"
    }
   ],
   "source": [
    "root = initTree()\n",
    "maxDepth(root)"
   ]
  },
  {
   "cell_type": "markdown",
   "id": "eeab021c",
   "metadata": {},
   "source": [
    "## 110. Balanced Binary Tree"
   ]
  },
  {
   "cell_type": "code",
   "execution_count": 13,
   "id": "c8390db8",
   "metadata": {},
   "outputs": [],
   "source": [
    "# recursive solution using maxDepth, O(n^2)\n",
    "def isBalanced(root):\n",
    "    if not root: return True\n",
    "    return abs(maxDepth(root.left) - maxDepth(root.right)) <= 1 \\\n",
    "        and isBalanced(root.left) and isBalanced(root.right)"
   ]
  },
  {
   "cell_type": "code",
   "execution_count": 14,
   "id": "69487de3",
   "metadata": {},
   "outputs": [
    {
     "data": {
      "text/plain": [
       "True"
      ]
     },
     "execution_count": 14,
     "metadata": {},
     "output_type": "execute_result"
    }
   ],
   "source": [
    "root = initTree()\n",
    "isBalanced(root)"
   ]
  },
  {
   "cell_type": "code",
   "execution_count": 15,
   "id": "cdd4bc53",
   "metadata": {},
   "outputs": [],
   "source": [
    "# calculate height using dfs (bottom up)\n",
    "# if tree is not balanced, return negative int\n",
    "# otherwise return maximum height\n",
    "def height(root):\n",
    "    if not root: return 0\n",
    "    left = height(root.left)    \n",
    "    right = height(root.right)\n",
    "    \n",
    "    # tree is not balanced\n",
    "    if (left < 0 or right < 0) or \\\n",
    "        (abs(left - right) > 1): \n",
    "        return -1\n",
    "    \n",
    "    # tree is balanced\n",
    "    return 1 + max(left, right)"
   ]
  },
  {
   "cell_type": "code",
   "execution_count": 16,
   "id": "4f47e594",
   "metadata": {},
   "outputs": [],
   "source": [
    "# recursive dfs height, O(N) complexity\n",
    "def isBalanced(root):\n",
    "     return height(root) != -1"
   ]
  },
  {
   "cell_type": "code",
   "execution_count": 17,
   "id": "b9fb53db",
   "metadata": {},
   "outputs": [
    {
     "data": {
      "text/plain": [
       "True"
      ]
     },
     "execution_count": 17,
     "metadata": {},
     "output_type": "execute_result"
    }
   ],
   "source": [
    "isBalanced(root)"
   ]
  },
  {
   "cell_type": "markdown",
   "id": "8c3aed94",
   "metadata": {},
   "source": [
    "## 100. Same Tree"
   ]
  },
  {
   "cell_type": "code",
   "execution_count": 18,
   "id": "94b17e28",
   "metadata": {},
   "outputs": [],
   "source": [
    "def isSameTree(p, q):\n",
    "    # both nodes null\n",
    "    if (not p and not q): return True\n",
    "    # one of nodes null\n",
    "    if not (p and q): return False\n",
    "\n",
    "    return p.val == q.val and \\\n",
    "        isSameTree(p.left, q.left) and \\\n",
    "        isSameTree(p.right, q.right)"
   ]
  },
  {
   "cell_type": "code",
   "execution_count": 19,
   "id": "52294eaf",
   "metadata": {},
   "outputs": [
    {
     "data": {
      "text/plain": [
       "True"
      ]
     },
     "execution_count": 19,
     "metadata": {},
     "output_type": "execute_result"
    }
   ],
   "source": [
    "p, q = initTree(), initTree()\n",
    "isSameTree(p, q)"
   ]
  },
  {
   "cell_type": "markdown",
   "id": "cbcd6dda",
   "metadata": {},
   "source": [
    "## 572. Subtree of Another Tree"
   ]
  },
  {
   "cell_type": "code",
   "execution_count": 20,
   "id": "65787e0d",
   "metadata": {},
   "outputs": [],
   "source": [
    "# solution using the previous isSameTree function\n",
    "def isSubtree(root, subRoot):\n",
    "    if not subRoot and not root: return True\n",
    "    if not (root and subRoot): return False\n",
    "    res = isSameTree(root, subRoot)\n",
    "    if (root.left): res = res or isSubtree(root.left, subRoot)\n",
    "    if (root.right): res = res or isSubtree(root.right, subRoot)\n",
    "    return res"
   ]
  },
  {
   "cell_type": "code",
   "execution_count": 21,
   "id": "581f105e",
   "metadata": {},
   "outputs": [
    {
     "data": {
      "text/plain": [
       "True"
      ]
     },
     "execution_count": 21,
     "metadata": {},
     "output_type": "execute_result"
    }
   ],
   "source": [
    "p, q = initTree(), initTree()\n",
    "isSubtree(p, q)"
   ]
  },
  {
   "cell_type": "markdown",
   "id": "ee6f4786",
   "metadata": {},
   "source": [
    "## 235. Lowest Common Ancestor of a Binary Search Tree"
   ]
  },
  {
   "cell_type": "code",
   "execution_count": 22,
   "id": "c51cd5c4",
   "metadata": {},
   "outputs": [],
   "source": [
    "def lowestCommonAncestor(root, p, q):\n",
    "    res = root\n",
    "    \n",
    "    def dfs(root):\n",
    "        nonlocal res\n",
    "        if not root: return False\n",
    "        mid = root == p or root == q\n",
    "        left = dfs(root.left)            \n",
    "        right = dfs(root.right)\n",
    "        if (mid and left) or (mid and right) or (left and right):\n",
    "            res = root\n",
    "        return left or right or mid \n",
    "\n",
    "\n",
    "    dfs(root)\n",
    "    return res"
   ]
  },
  {
   "cell_type": "code",
   "execution_count": 23,
   "id": "ee25b6ca",
   "metadata": {},
   "outputs": [
    {
     "data": {
      "text/plain": [
       "True"
      ]
     },
     "execution_count": 23,
     "metadata": {},
     "output_type": "execute_result"
    }
   ],
   "source": [
    "p, q, lca = initTree(), initTree(), TreeNode(0, p, q)\n",
    "lowestCommonAncestor(lca, p, q) == lca"
   ]
  },
  {
   "cell_type": "markdown",
   "id": "54941d2f",
   "metadata": {},
   "source": [
    "## 102. Binary Tree Level Order Traversal"
   ]
  },
  {
   "cell_type": "code",
   "execution_count": 57,
   "id": "d43ed936",
   "metadata": {},
   "outputs": [],
   "source": [
    "# dfs traversal with caching \n",
    "def solution():\n",
    "    level = 0\n",
    "    mapping = {}\n",
    "    \n",
    "    def levelOrder(root):\n",
    "        nonlocal level, mapping\n",
    "\n",
    "        # reset previously cached results\n",
    "        if (level == 0 and mapping.keys()):\n",
    "            mapping = {}\n",
    "        \n",
    "        if not root: \n",
    "            level -= 1\n",
    "            return\n",
    "        \n",
    "        if level not in mapping:\n",
    "            mapping[level] = []\n",
    "        \n",
    "        mapping[level].append(root.val)\n",
    "        \n",
    "        level += 1\n",
    "        levelOrder(root.left)\n",
    "\n",
    "        level += 1\n",
    "        levelOrder(root.right)\n",
    "        \n",
    "        if not level: \n",
    "            return [mapping[k] for k in mapping.keys()] \n",
    "        else: \n",
    "            level -= 1  \n",
    "            return      \n",
    "    \n",
    "    return levelOrder"
   ]
  },
  {
   "cell_type": "code",
   "execution_count": 58,
   "id": "e64a46d1",
   "metadata": {},
   "outputs": [
    {
     "data": {
      "text/plain": [
       "[[1], [2, 3], [4, 5, 6, 7]]"
      ]
     },
     "execution_count": 58,
     "metadata": {},
     "output_type": "execute_result"
    }
   ],
   "source": [
    "levelOrder = solution()\n",
    "levelOrder(initTree())"
   ]
  },
  {
   "cell_type": "code",
   "execution_count": null,
   "id": "4385d473",
   "metadata": {},
   "outputs": [],
   "source": []
  }
 ],
 "metadata": {
  "kernelspec": {
   "display_name": "Python 3 (ipykernel)",
   "language": "python",
   "name": "python3"
  },
  "language_info": {
   "codemirror_mode": {
    "name": "ipython",
    "version": 3
   },
   "file_extension": ".py",
   "mimetype": "text/x-python",
   "name": "python",
   "nbconvert_exporter": "python",
   "pygments_lexer": "ipython3",
   "version": "3.8.10"
  }
 },
 "nbformat": 4,
 "nbformat_minor": 5
}
