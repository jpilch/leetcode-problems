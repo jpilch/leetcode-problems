{
 "cells": [
  {
   "cell_type": "code",
   "execution_count": 1,
   "id": "2779307e",
   "metadata": {},
   "outputs": [],
   "source": [
    "class TreeNode:\n",
    "    def __init__(self, val=0, \n",
    "                 left=None, \n",
    "                 right=None):\n",
    "        self.val = val\n",
    "        self.left = left\n",
    "        self.right = right"
   ]
  },
  {
   "cell_type": "code",
   "execution_count": 2,
   "id": "27539724",
   "metadata": {},
   "outputs": [],
   "source": [
    "def initTree():\n",
    "    left = TreeNode(2)\n",
    "    left.left = TreeNode(4)\n",
    "    left.right = TreeNode(5)\n",
    "    right = TreeNode(3)\n",
    "    right.left = TreeNode(6)\n",
    "    right.right = TreeNode(7)\n",
    "    root = TreeNode(1, left, right)\n",
    "    return root"
   ]
  },
  {
   "cell_type": "code",
   "execution_count": 3,
   "id": "8b56435a",
   "metadata": {},
   "outputs": [],
   "source": [
    "def printTree(root=None):\n",
    "    if not root: return\n",
    "    print(root.val, end =\" \")\n",
    "    printTree(root.left)    \n",
    "    printTree(root.right)"
   ]
  },
  {
   "cell_type": "code",
   "execution_count": 4,
   "id": "6e7db305",
   "metadata": {},
   "outputs": [
    {
     "name": "stdout",
     "output_type": "stream",
     "text": [
      "1 2 4 5 3 6 7 "
     ]
    }
   ],
   "source": [
    "t = initTree()\n",
    "printTree(t)"
   ]
  },
  {
   "cell_type": "markdown",
   "id": "8232e5ef",
   "metadata": {},
   "source": [
    "## 226. Invert Binary Tree"
   ]
  },
  {
   "cell_type": "code",
   "execution_count": 5,
   "id": "5ec65e0d",
   "metadata": {},
   "outputs": [],
   "source": [
    "def invertTree(root):\n",
    "    if not root: return\n",
    "    left = root.left\n",
    "    right = root.right\n",
    "    root.right = left\n",
    "    root.left = right\n",
    "    invertTree(root.left)\n",
    "    invertTree(root.right)\n",
    "    return root"
   ]
  },
  {
   "cell_type": "code",
   "execution_count": 6,
   "id": "23f3c5e1",
   "metadata": {},
   "outputs": [
    {
     "name": "stdout",
     "output_type": "stream",
     "text": [
      "1 2 4 5 3 6 7 "
     ]
    }
   ],
   "source": [
    "root = initTree()\n",
    "printTree(root)"
   ]
  },
  {
   "cell_type": "code",
   "execution_count": 7,
   "id": "01197f1c",
   "metadata": {},
   "outputs": [
    {
     "name": "stdout",
     "output_type": "stream",
     "text": [
      "1 3 7 6 2 5 4 "
     ]
    }
   ],
   "source": [
    "invertTree(root)\n",
    "printTree(root)"
   ]
  },
  {
   "cell_type": "markdown",
   "id": "3ed00b54",
   "metadata": {},
   "source": [
    "## 104. Maximum Depth of Binary Tree"
   ]
  },
  {
   "cell_type": "code",
   "execution_count": 8,
   "id": "2ba97cdb",
   "metadata": {},
   "outputs": [],
   "source": [
    "def maxDepth(root):\n",
    "    if not root: return 0\n",
    "    leftDepth = 1 + maxDepth(root.left)        \n",
    "    rightDepth = 1 + maxDepth(root.right)\n",
    "    return leftDepth if leftDepth >= rightDepth else rightDepth"
   ]
  },
  {
   "cell_type": "code",
   "execution_count": 9,
   "id": "4d6aab0f",
   "metadata": {},
   "outputs": [
    {
     "data": {
      "text/plain": [
       "3"
      ]
     },
     "execution_count": 9,
     "metadata": {},
     "output_type": "execute_result"
    }
   ],
   "source": [
    "root = initTree()\n",
    "maxDepth(root)"
   ]
  },
  {
   "cell_type": "markdown",
   "id": "240884ac",
   "metadata": {},
   "source": [
    "## 110. Balanced Binary Tree"
   ]
  },
  {
   "cell_type": "code",
   "execution_count": 15,
   "id": "4e583b8a",
   "metadata": {},
   "outputs": [],
   "source": [
    "# recursive solution using maxDepth, O(n^2)\n",
    "def isBalanced(root):\n",
    "    if not root: return True\n",
    "    return abs(maxDepth(root.left) - maxDepth(root.right)) <= 1 \\\n",
    "        and isBalanced(root.left) and isBalanced(root.right)"
   ]
  },
  {
   "cell_type": "code",
   "execution_count": 16,
   "id": "126d9593",
   "metadata": {},
   "outputs": [
    {
     "data": {
      "text/plain": [
       "True"
      ]
     },
     "execution_count": 16,
     "metadata": {},
     "output_type": "execute_result"
    }
   ],
   "source": [
    "root = initTree()\n",
    "isBalanced(root)"
   ]
  },
  {
   "cell_type": "code",
   "execution_count": null,
   "id": "ac4facb7",
   "metadata": {},
   "outputs": [],
   "source": []
  }
 ],
 "metadata": {
  "kernelspec": {
   "display_name": "Python 3 (ipykernel)",
   "language": "python",
   "name": "python3"
  },
  "language_info": {
   "codemirror_mode": {
    "name": "ipython",
    "version": 3
   },
   "file_extension": ".py",
   "mimetype": "text/x-python",
   "name": "python",
   "nbconvert_exporter": "python",
   "pygments_lexer": "ipython3",
   "version": "3.8.10"
  }
 },
 "nbformat": 4,
 "nbformat_minor": 5
}
