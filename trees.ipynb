{
 "cells": [
  {
   "cell_type": "code",
   "execution_count": 5,
   "id": "75085fa7",
   "metadata": {},
   "outputs": [],
   "source": [
    "class TreeNode:\n",
    "    def __init__(self, val=0, \n",
    "                 left=None, \n",
    "                 right=None):\n",
    "        self.val = val\n",
    "        self.left = left\n",
    "        self.right = right"
   ]
  },
  {
   "cell_type": "code",
   "execution_count": 38,
   "id": "fff7b31d",
   "metadata": {},
   "outputs": [],
   "source": [
    "def initTree():\n",
    "    left = TreeNode(2)\n",
    "    left.left = TreeNode(4)\n",
    "    left.right = TreeNode(5)\n",
    "    right = TreeNode(3)\n",
    "    right.left = TreeNode(6)\n",
    "    right.right = TreeNode(7)\n",
    "    root = TreeNode(1, left, right)\n",
    "    return root"
   ]
  },
  {
   "cell_type": "code",
   "execution_count": 39,
   "id": "3630b9c0",
   "metadata": {},
   "outputs": [],
   "source": [
    "def printTree(root=None):\n",
    "    if not root: return\n",
    "    print(root.val, end =\" \")\n",
    "    printTree(root.left)    \n",
    "    printTree(root.right)"
   ]
  },
  {
   "cell_type": "code",
   "execution_count": 40,
   "id": "1007161a",
   "metadata": {},
   "outputs": [
    {
     "name": "stdout",
     "output_type": "stream",
     "text": [
      "1 2 4 5 3 6 7 "
     ]
    }
   ],
   "source": [
    "t = initTree()\n",
    "printTree(t)"
   ]
  },
  {
   "cell_type": "markdown",
   "id": "726e1110",
   "metadata": {},
   "source": [
    "## 226. Invert Binary Tree"
   ]
  },
  {
   "cell_type": "code",
   "execution_count": 44,
   "id": "d06479a2",
   "metadata": {},
   "outputs": [],
   "source": [
    "def invertTree(root):\n",
    "    if not root: return\n",
    "    left = root.left\n",
    "    right = root.right\n",
    "    root.right = left\n",
    "    root.left = right\n",
    "    invertTree(root.left)\n",
    "    invertTree(root.right)\n",
    "    return root"
   ]
  },
  {
   "cell_type": "code",
   "execution_count": 45,
   "id": "3a020e5c",
   "metadata": {},
   "outputs": [
    {
     "name": "stdout",
     "output_type": "stream",
     "text": [
      "1 2 4 5 3 6 7 "
     ]
    }
   ],
   "source": [
    "root = initTree()\n",
    "printTree(root)"
   ]
  },
  {
   "cell_type": "code",
   "execution_count": 46,
   "id": "05c05bb1",
   "metadata": {},
   "outputs": [
    {
     "name": "stdout",
     "output_type": "stream",
     "text": [
      "1 3 7 6 2 5 4 "
     ]
    }
   ],
   "source": [
    "invertTree(root)\n",
    "printTree(root)"
   ]
  },
  {
   "cell_type": "code",
   "execution_count": null,
   "id": "3d9f7bfd",
   "metadata": {},
   "outputs": [],
   "source": []
  }
 ],
 "metadata": {
  "kernelspec": {
   "display_name": "Python 3 (ipykernel)",
   "language": "python",
   "name": "python3"
  },
  "language_info": {
   "codemirror_mode": {
    "name": "ipython",
    "version": 3
   },
   "file_extension": ".py",
   "mimetype": "text/x-python",
   "name": "python",
   "nbconvert_exporter": "python",
   "pygments_lexer": "ipython3",
   "version": "3.8.10"
  }
 },
 "nbformat": 4,
 "nbformat_minor": 5
}
