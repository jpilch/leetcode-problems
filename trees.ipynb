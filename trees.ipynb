{
 "cells": [
  {
   "cell_type": "code",
   "execution_count": 37,
   "id": "2779307e",
   "metadata": {},
   "outputs": [],
   "source": [
    "class TreeNode:\n",
    "    def __init__(self, val=0, \n",
    "                 left=None, \n",
    "                 right=None):\n",
    "        self.val = val\n",
    "        self.left = left\n",
    "        self.right = right"
   ]
  },
  {
   "cell_type": "code",
   "execution_count": 38,
   "id": "27539724",
   "metadata": {},
   "outputs": [],
   "source": [
    "def initTree():\n",
    "    left = TreeNode(2)\n",
    "    left.left = TreeNode(4)\n",
    "    left.right = TreeNode(5)\n",
    "    right = TreeNode(3)\n",
    "    right.left = TreeNode(6)\n",
    "    right.right = TreeNode(7)\n",
    "    root = TreeNode(1, left, right)\n",
    "    return root"
   ]
  },
  {
   "cell_type": "code",
   "execution_count": 39,
   "id": "8b56435a",
   "metadata": {},
   "outputs": [],
   "source": [
    "def printTree(root=None):\n",
    "    if not root: return\n",
    "    print(root.val, end =\" \")\n",
    "    printTree(root.left)    \n",
    "    printTree(root.right)"
   ]
  },
  {
   "cell_type": "code",
   "execution_count": 40,
   "id": "6e7db305",
   "metadata": {},
   "outputs": [
    {
     "name": "stdout",
     "output_type": "stream",
     "text": [
      "1 2 4 5 3 6 7 "
     ]
    }
   ],
   "source": [
    "t = initTree()\n",
    "printTree(t)"
   ]
  },
  {
   "cell_type": "markdown",
   "id": "8232e5ef",
   "metadata": {},
   "source": [
    "## 226. Invert Binary Tree"
   ]
  },
  {
   "cell_type": "code",
   "execution_count": 41,
   "id": "5ec65e0d",
   "metadata": {},
   "outputs": [],
   "source": [
    "def invertTree(root):\n",
    "    if not root: return\n",
    "    left = root.left\n",
    "    right = root.right\n",
    "    root.right = left\n",
    "    root.left = right\n",
    "    invertTree(root.left)\n",
    "    invertTree(root.right)\n",
    "    return root"
   ]
  },
  {
   "cell_type": "code",
   "execution_count": 42,
   "id": "23f3c5e1",
   "metadata": {},
   "outputs": [
    {
     "name": "stdout",
     "output_type": "stream",
     "text": [
      "1 2 4 5 3 6 7 "
     ]
    }
   ],
   "source": [
    "root = initTree()\n",
    "printTree(root)"
   ]
  },
  {
   "cell_type": "code",
   "execution_count": 43,
   "id": "01197f1c",
   "metadata": {},
   "outputs": [
    {
     "name": "stdout",
     "output_type": "stream",
     "text": [
      "1 3 7 6 2 5 4 "
     ]
    }
   ],
   "source": [
    "invertTree(root)\n",
    "printTree(root)"
   ]
  },
  {
   "cell_type": "markdown",
   "id": "3ed00b54",
   "metadata": {},
   "source": [
    "## 104. Maximum Depth of Binary Tree"
   ]
  },
  {
   "cell_type": "code",
   "execution_count": 44,
   "id": "2ba97cdb",
   "metadata": {},
   "outputs": [],
   "source": [
    "def maxDepth(root):\n",
    "    if not root: return 0\n",
    "    leftDepth = 1 + maxDepth(root.left)        \n",
    "    rightDepth = 1 + maxDepth(root.right)\n",
    "    return leftDepth if leftDepth >= rightDepth else rightDepth"
   ]
  },
  {
   "cell_type": "code",
   "execution_count": 45,
   "id": "4d6aab0f",
   "metadata": {},
   "outputs": [
    {
     "data": {
      "text/plain": [
       "3"
      ]
     },
     "execution_count": 45,
     "metadata": {},
     "output_type": "execute_result"
    }
   ],
   "source": [
    "root = initTree()\n",
    "maxDepth(root)"
   ]
  },
  {
   "cell_type": "markdown",
   "id": "eeab021c",
   "metadata": {},
   "source": [
    "## 110. Balanced Binary Tree"
   ]
  },
  {
   "cell_type": "code",
   "execution_count": 46,
   "id": "c8390db8",
   "metadata": {},
   "outputs": [],
   "source": [
    "# recursive solution using maxDepth, O(n^2)\n",
    "def isBalanced(root):\n",
    "    if not root: return True\n",
    "    return abs(maxDepth(root.left) - maxDepth(root.right)) <= 1 \\\n",
    "        and isBalanced(root.left) and isBalanced(root.right)"
   ]
  },
  {
   "cell_type": "code",
   "execution_count": 47,
   "id": "69487de3",
   "metadata": {},
   "outputs": [
    {
     "data": {
      "text/plain": [
       "True"
      ]
     },
     "execution_count": 47,
     "metadata": {},
     "output_type": "execute_result"
    }
   ],
   "source": [
    "root = initTree()\n",
    "isBalanced(root)"
   ]
  },
  {
   "cell_type": "code",
   "execution_count": 48,
   "id": "cdd4bc53",
   "metadata": {},
   "outputs": [],
   "source": [
    "# calculate height using dfs (bottom up)\n",
    "# if tree is not balanced, return negative int\n",
    "# otherwise return maximum height\n",
    "def height(root):\n",
    "    if not root: return 0\n",
    "    left = height(root.left)    \n",
    "    right = height(root.right)\n",
    "    \n",
    "    # tree is not balanced\n",
    "    if (left < 0 or right < 0) or \\\n",
    "        (abs(left - right) > 1): \n",
    "        return -1\n",
    "    \n",
    "    # tree is balanced\n",
    "    return 1 + max(left, right)"
   ]
  },
  {
   "cell_type": "code",
   "execution_count": 49,
   "id": "4f47e594",
   "metadata": {},
   "outputs": [],
   "source": [
    "# recursive dfs height, O(N) complexity\n",
    "def isBalanced(root):\n",
    "     return height(root) != -1"
   ]
  },
  {
   "cell_type": "code",
   "execution_count": 50,
   "id": "b9fb53db",
   "metadata": {},
   "outputs": [
    {
     "data": {
      "text/plain": [
       "True"
      ]
     },
     "execution_count": 50,
     "metadata": {},
     "output_type": "execute_result"
    }
   ],
   "source": [
    "isBalanced(root)"
   ]
  },
  {
   "cell_type": "markdown",
   "id": "8c3aed94",
   "metadata": {},
   "source": [
    "## 100. Same Tree"
   ]
  },
  {
   "cell_type": "code",
   "execution_count": 51,
   "id": "94b17e28",
   "metadata": {},
   "outputs": [],
   "source": [
    "def isSameTree(p, q):\n",
    "    # both nodes null\n",
    "    if (not p and not q): return True\n",
    "    # one of nodes null\n",
    "    if not (p and q): return False\n",
    "\n",
    "    return p.val == q.val and \\\n",
    "        isSameTree(p.left, q.left) and \\\n",
    "        isSameTree(p.right, q.right)"
   ]
  },
  {
   "cell_type": "code",
   "execution_count": 52,
   "id": "52294eaf",
   "metadata": {},
   "outputs": [
    {
     "data": {
      "text/plain": [
       "True"
      ]
     },
     "execution_count": 52,
     "metadata": {},
     "output_type": "execute_result"
    }
   ],
   "source": [
    "p, q = initTree(), initTree()\n",
    "isSameTree(p, q)"
   ]
  },
  {
   "cell_type": "markdown",
   "id": "cbcd6dda",
   "metadata": {},
   "source": [
    "## 572. Subtree of Another Tree"
   ]
  },
  {
   "cell_type": "code",
   "execution_count": 53,
   "id": "65787e0d",
   "metadata": {},
   "outputs": [],
   "source": [
    "# solution using the previous isSameTree function\n",
    "def isSubtree(root, subRoot):\n",
    "    if not subRoot and not root: return True\n",
    "    if not (root and subRoot): return False\n",
    "    res = isSameTree(root, subRoot)\n",
    "    if (root.left): res = res or isSubtree(root.left, subRoot)\n",
    "    if (root.right): res = res or isSubtree(root.right, subRoot)\n",
    "    return res"
   ]
  },
  {
   "cell_type": "code",
   "execution_count": 54,
   "id": "581f105e",
   "metadata": {},
   "outputs": [
    {
     "data": {
      "text/plain": [
       "True"
      ]
     },
     "execution_count": 54,
     "metadata": {},
     "output_type": "execute_result"
    }
   ],
   "source": [
    "p, q = initTree(), initTree()\n",
    "isSubtree(p, q)"
   ]
  },
  {
   "cell_type": "markdown",
   "id": "ee6f4786",
   "metadata": {},
   "source": [
    "## 235. Lowest Common Ancestor of a Binary Search Tree"
   ]
  },
  {
   "cell_type": "code",
   "execution_count": 55,
   "id": "c51cd5c4",
   "metadata": {},
   "outputs": [],
   "source": [
    "def lowestCommonAncestor(root, p, q):\n",
    "    res = root\n",
    "    \n",
    "    def dfs(root):\n",
    "        nonlocal res\n",
    "        if not root: return False\n",
    "        mid = root == p or root == q\n",
    "        left = dfs(root.left)            \n",
    "        right = dfs(root.right)\n",
    "        if (mid and left) or (mid and right) or (left and right):\n",
    "            res = root\n",
    "        return left or right or mid \n",
    "\n",
    "\n",
    "    dfs(root)\n",
    "    return res"
   ]
  },
  {
   "cell_type": "code",
   "execution_count": 56,
   "id": "ee25b6ca",
   "metadata": {},
   "outputs": [
    {
     "data": {
      "text/plain": [
       "True"
      ]
     },
     "execution_count": 56,
     "metadata": {},
     "output_type": "execute_result"
    }
   ],
   "source": [
    "p, q, lca = initTree(), initTree(), TreeNode(0, p, q)\n",
    "lowestCommonAncestor(lca, p, q) == lca"
   ]
  },
  {
   "cell_type": "markdown",
   "id": "54941d2f",
   "metadata": {},
   "source": [
    "## 102. Binary Tree Level Order Traversal"
   ]
  },
  {
   "cell_type": "code",
   "execution_count": 57,
   "id": "d43ed936",
   "metadata": {},
   "outputs": [],
   "source": [
    "# dfs traversal with caching \n",
    "def solution():\n",
    "    level = 0\n",
    "    mapping = {}\n",
    "    \n",
    "    def levelOrder(root):\n",
    "        nonlocal level, mapping\n",
    "\n",
    "        # reset previously cached results\n",
    "        if (level == 0 and mapping.keys()):\n",
    "            mapping = {}\n",
    "        \n",
    "        if not root: \n",
    "            level -= 1\n",
    "            return\n",
    "        \n",
    "        if level not in mapping:\n",
    "            mapping[level] = []\n",
    "        \n",
    "        mapping[level].append(root.val)\n",
    "        \n",
    "        level += 1\n",
    "        levelOrder(root.left)\n",
    "\n",
    "        level += 1\n",
    "        levelOrder(root.right)\n",
    "        \n",
    "        if not level: \n",
    "            return [mapping[k] for k in mapping.keys()] \n",
    "        else: \n",
    "            level -= 1  \n",
    "            return      \n",
    "    \n",
    "    return levelOrder"
   ]
  },
  {
   "cell_type": "code",
   "execution_count": 58,
   "id": "e64a46d1",
   "metadata": {},
   "outputs": [
    {
     "data": {
      "text/plain": [
       "[[1], [2, 3], [4, 5, 6, 7]]"
      ]
     },
     "execution_count": 58,
     "metadata": {},
     "output_type": "execute_result"
    }
   ],
   "source": [
    "levelOrder = solution()\n",
    "levelOrder(initTree())"
   ]
  },
  {
   "cell_type": "code",
   "execution_count": 59,
   "id": "4385d473",
   "metadata": {},
   "outputs": [],
   "source": [
    "# bfs solution using queue\n",
    "def levelOrder(root):\n",
    "    res   = []\n",
    "    queue = [root]\n",
    "    level = []\n",
    "    curr = None\n",
    "    \n",
    "    while len(queue):\n",
    "        for i in range(len(queue)):\n",
    "            curr = queue.pop(0)\n",
    "            if (curr): \n",
    "                level.append(curr.val)\n",
    "                queue.append(curr.left)\n",
    "                queue.append(curr.right)\n",
    "        if len(level): \n",
    "            res.append(level)\n",
    "            level = []\n",
    "        \n",
    "    return res"
   ]
  },
  {
   "cell_type": "code",
   "execution_count": 60,
   "id": "c22bdc86",
   "metadata": {},
   "outputs": [
    {
     "data": {
      "text/plain": [
       "[[1], [2, 3], [4, 5, 6, 7]]"
      ]
     },
     "execution_count": 60,
     "metadata": {},
     "output_type": "execute_result"
    }
   ],
   "source": [
    "levelOrder(initTree())"
   ]
  },
  {
   "cell_type": "markdown",
   "id": "f8de3a02",
   "metadata": {},
   "source": [
    "## 98. Validate Binary Search Tree"
   ]
  },
  {
   "cell_type": "code",
   "execution_count": 61,
   "id": "158d8c16",
   "metadata": {},
   "outputs": [],
   "source": [
    "# dfs solution with dynamic boundaries, O(N)\n",
    "def solution():\n",
    "    boundaries = [None,  None]\n",
    "    \n",
    "    def isValidBST(root):\n",
    "        nonlocal boundaries\n",
    "        \n",
    "        copy = [boundaries[0], boundaries[1]]\n",
    "        \n",
    "        if not root: return True\n",
    "        \n",
    "        isValid = True\n",
    "        \n",
    "        boundaries = [copy[0], root.val]\n",
    "        isValid = isValid and isValidBST(root.left)\n",
    "        \n",
    "        boundaries = [root.val, copy[1]]\n",
    "        isValid = isValid and isValidBST(root.right)\n",
    "        \n",
    "        boundaries = [copy[0], copy[1]]\n",
    "        \n",
    "        if boundaries[0] is not None:\n",
    "            isValid = isValid and (root.val > boundaries[0])\n",
    "        if boundaries[1] is not None:\n",
    "            isValid = isValid and (root.val < boundaries[1])\n",
    "        \n",
    "        return isValid\n",
    "    \n",
    "    return isValidBST"
   ]
  },
  {
   "cell_type": "code",
   "execution_count": 62,
   "id": "491bc05b",
   "metadata": {},
   "outputs": [
    {
     "name": "stdout",
     "output_type": "stream",
     "text": [
      "True False\n"
     ]
    }
   ],
   "source": [
    "isValidBST = solution()\n",
    "\n",
    "inValid = initTree()\n",
    "valid = initTree()\n",
    "valid.left = TreeNode(valid.val - 1)\n",
    "valid.right = TreeNode(valid.val + 1)\n",
    "\n",
    "print(isValidBST(valid), isValidBST(inValid)) "
   ]
  },
  {
   "cell_type": "markdown",
   "id": "cd515cc0",
   "metadata": {},
   "source": [
    "## 1448. Count Good Nodes in Binary Tree"
   ]
  },
  {
   "cell_type": "code",
   "execution_count": 63,
   "id": "8f967246",
   "metadata": {},
   "outputs": [],
   "source": [
    "# dfs with updating the greatest value, O(N)\n",
    "def solution():\n",
    "    greatest = None\n",
    "    total = 0\n",
    "    \n",
    "    def goodNodes(root):\n",
    "        nonlocal greatest, total\n",
    "    \n",
    "        if not root: return 0\n",
    "        \n",
    "        # root node\n",
    "        if greatest is None or root.val >= greatest: \n",
    "            total += 1\n",
    "            greatest = root.val\n",
    "            \n",
    "        copy = greatest\n",
    "        goodNodes(root.left)\n",
    "        greatest = copy\n",
    "        \n",
    "        goodNodes(root.right)\n",
    "        \n",
    "        return total\n",
    "    \n",
    "    return goodNodes"
   ]
  },
  {
   "cell_type": "code",
   "execution_count": 64,
   "id": "e633f6c7",
   "metadata": {},
   "outputs": [
    {
     "data": {
      "text/plain": [
       "True"
      ]
     },
     "execution_count": 64,
     "metadata": {},
     "output_type": "execute_result"
    }
   ],
   "source": [
    "goodNodes = solution()\n",
    "goodNodes(initTree()) == 7"
   ]
  },
  {
   "cell_type": "markdown",
   "id": "4f5fdcab",
   "metadata": {},
   "source": [
    "## 230. Kth Smallest Element in a BST"
   ]
  },
  {
   "cell_type": "code",
   "execution_count": 70,
   "id": "e477b0d4",
   "metadata": {},
   "outputs": [],
   "source": [
    "# dfs, add nodes to array, sort and return, O(N)\n",
    "def solution():\n",
    "    nodes = []\n",
    "    \n",
    "    def kthSmallest(root, k):\n",
    "        nonlocal nodes\n",
    "        \n",
    "        if not root: return\n",
    "        \n",
    "        isTopLevelNode = len(nodes) == 0\n",
    "        \n",
    "        nodes.append(root)\n",
    "        \n",
    "        kthSmallest(root.left, k)        \n",
    "        kthSmallest(root.right, k)\n",
    "        \n",
    "        if (isTopLevelNode):\n",
    "            res = sorted(nodes, key=lambda node: node.val)[k - 1].val\n",
    "            nodes.clear()\n",
    "            return res\n",
    "        \n",
    "        return\n",
    "    \n",
    "    return kthSmallest"
   ]
  },
  {
   "cell_type": "code",
   "execution_count": 72,
   "id": "5c002bf7",
   "metadata": {},
   "outputs": [
    {
     "data": {
      "text/plain": [
       "True"
      ]
     },
     "execution_count": 72,
     "metadata": {},
     "output_type": "execute_result"
    }
   ],
   "source": [
    "kthSmallest = solution()\n",
    "kthSmallest(initTree(), 1) == 1"
   ]
  },
  {
   "cell_type": "code",
   "execution_count": null,
   "id": "019f92c4",
   "metadata": {},
   "outputs": [],
   "source": []
  }
 ],
 "metadata": {
  "kernelspec": {
   "display_name": "Python 3 (ipykernel)",
   "language": "python",
   "name": "python3"
  },
  "language_info": {
   "codemirror_mode": {
    "name": "ipython",
    "version": 3
   },
   "file_extension": ".py",
   "mimetype": "text/x-python",
   "name": "python",
   "nbconvert_exporter": "python",
   "pygments_lexer": "ipython3",
   "version": "3.8.10"
  }
 },
 "nbformat": 4,
 "nbformat_minor": 5
}
