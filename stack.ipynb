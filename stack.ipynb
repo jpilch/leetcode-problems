{
 "cells": [
  {
   "cell_type": "markdown",
   "id": "821b2dd7",
   "metadata": {},
   "source": [
    "## [20. Valid Parentheses](https://leetcode.com/problems/valid-parentheses/)"
   ]
  },
  {
   "cell_type": "code",
   "execution_count": 1,
   "id": "20b19e1f",
   "metadata": {},
   "outputs": [],
   "source": [
    "def isValid(s):\n",
    "    pairs = {\n",
    "        '(': ')',            \n",
    "        '{': '}',\n",
    "        '[': ']'\n",
    "    }\n",
    "    stack = []\n",
    "\n",
    "    for c in s:\n",
    "        if c in pairs:\n",
    "            stack.append(c)\n",
    "            continue\n",
    "\n",
    "        if len(stack) == 0 or c != pairs[stack.pop()]:\n",
    "            return False\n",
    "\n",
    "    return len(stack) == 0"
   ]
  },
  {
   "cell_type": "code",
   "execution_count": 2,
   "id": "e9d81382",
   "metadata": {},
   "outputs": [
    {
     "data": {
      "text/plain": [
       "True"
      ]
     },
     "execution_count": 2,
     "metadata": {},
     "output_type": "execute_result"
    }
   ],
   "source": [
    "isValid(\"(){}[]\")"
   ]
  },
  {
   "cell_type": "markdown",
   "id": "ed7d6554",
   "metadata": {},
   "source": [
    "## [155. Min Stack](https://leetcode.com/problems/min-stack/)"
   ]
  },
  {
   "cell_type": "code",
   "execution_count": 10,
   "id": "d13e7ddd",
   "metadata": {},
   "outputs": [],
   "source": [
    "class MinStack:\n",
    "    \n",
    "    def __init__(self):\n",
    "        self.currMin = 0\n",
    "        self.stack = []\n",
    "\n",
    "    def push(self, val: int) -> None:\n",
    "        if not self.stack:\n",
    "            self.currMin = val\n",
    "        self.stack.append({\n",
    "            \"val\": val,\n",
    "            \"prevMin\": self.currMin\n",
    "        })\n",
    "        if val < self.currMin:\n",
    "            self.currMin = val\n",
    "\n",
    "    def pop(self) -> None:\n",
    "        popped = self.stack.pop()\n",
    "        self.currMin = popped[\"prevMin\"]\n",
    "\n",
    "    def top(self) -> int:\n",
    "        return self.stack[-1][\"val\"]\n",
    "\n",
    "    def getMin(self) -> int:\n",
    "        return self.currMin"
   ]
  },
  {
   "cell_type": "code",
   "execution_count": 19,
   "id": "e7072315",
   "metadata": {},
   "outputs": [
    {
     "data": {
      "text/plain": [
       "-3"
      ]
     },
     "execution_count": 19,
     "metadata": {},
     "output_type": "execute_result"
    }
   ],
   "source": [
    "minStack = MinStack()\n",
    "minStack.push(-2)\n",
    "minStack.push(0)\n",
    "minStack.push(-3)\n",
    "minStack.getMin() # return -3"
   ]
  },
  {
   "cell_type": "code",
   "execution_count": 20,
   "id": "1d773198",
   "metadata": {},
   "outputs": [],
   "source": [
    "minStack.pop()"
   ]
  },
  {
   "cell_type": "code",
   "execution_count": 21,
   "id": "36d5ce75",
   "metadata": {},
   "outputs": [
    {
     "data": {
      "text/plain": [
       "0"
      ]
     },
     "execution_count": 21,
     "metadata": {},
     "output_type": "execute_result"
    }
   ],
   "source": [
    "minStack.top()    # return 0"
   ]
  },
  {
   "cell_type": "code",
   "execution_count": 22,
   "id": "cb3f0e73",
   "metadata": {},
   "outputs": [
    {
     "data": {
      "text/plain": [
       "-2"
      ]
     },
     "execution_count": 22,
     "metadata": {},
     "output_type": "execute_result"
    }
   ],
   "source": [
    "minStack.getMin() # return -2"
   ]
  },
  {
   "cell_type": "markdown",
   "id": "b5ef46ae",
   "metadata": {},
   "source": [
    "## [150. Evaluate Reverse Polish Notation](https://leetcode.com/problems/evaluate-reverse-polish-notation/)"
   ]
  },
  {
   "cell_type": "code",
   "execution_count": 11,
   "id": "384f296b",
   "metadata": {},
   "outputs": [],
   "source": [
    "def evalRPN(tokens):\n",
    "    def helper(operator, opR, opL):\n",
    "        if operator == \"+\": return opL + opR\n",
    "        if operator == \"-\": return opL - opR\n",
    "        if operator == \"*\": return opL * opR\n",
    "        if operator == \"/\": return int(opL / opR)\n",
    "        \n",
    "    operators = {\"+\", \"-\", \"*\", \"/\"}\n",
    "    operands = []\n",
    "    for t in tokens:\n",
    "        if t in operators:\n",
    "            operands.append(helper(t, operands.pop(), operands.pop()))\n",
    "        else:\n",
    "            operands.append(int(t))\n",
    "    return operands.pop()"
   ]
  },
  {
   "cell_type": "code",
   "execution_count": 12,
   "id": "f27aba5f",
   "metadata": {},
   "outputs": [
    {
     "data": {
      "text/plain": [
       "True"
      ]
     },
     "execution_count": 12,
     "metadata": {},
     "output_type": "execute_result"
    }
   ],
   "source": [
    "evalRPN([\"10\",\"6\",\"9\",\"3\",\"+\",\"-11\",\"*\",\"/\",\"*\",\"17\",\"+\",\"5\",\"+\"]) == 22"
   ]
  },
  {
   "cell_type": "code",
   "execution_count": null,
   "id": "25439ddc",
   "metadata": {},
   "outputs": [],
   "source": []
  },
  {
   "cell_type": "code",
   "execution_count": null,
   "id": "2acf39fd",
   "metadata": {},
   "outputs": [],
   "source": []
  }
 ],
 "metadata": {
  "kernelspec": {
   "display_name": "Python 3 (ipykernel)",
   "language": "python",
   "name": "python3"
  },
  "language_info": {
   "codemirror_mode": {
    "name": "ipython",
    "version": 3
   },
   "file_extension": ".py",
   "mimetype": "text/x-python",
   "name": "python",
   "nbconvert_exporter": "python",
   "pygments_lexer": "ipython3",
   "version": "3.8.10"
  }
 },
 "nbformat": 4,
 "nbformat_minor": 5
}
