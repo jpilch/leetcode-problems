{
 "cells": [
  {
   "cell_type": "markdown",
   "id": "821b2dd7",
   "metadata": {},
   "source": [
    "## [20. Valid Parentheses](https://leetcode.com/problems/valid-parentheses/)"
   ]
  },
  {
   "cell_type": "code",
   "execution_count": 1,
   "id": "20b19e1f",
   "metadata": {},
   "outputs": [],
   "source": [
    "def isValid(s):\n",
    "    pairs = {\n",
    "        '(': ')',            \n",
    "        '{': '}',\n",
    "        '[': ']'\n",
    "    }\n",
    "    stack = []\n",
    "\n",
    "    for c in s:\n",
    "        if c in pairs:\n",
    "            stack.append(c)\n",
    "            continue\n",
    "\n",
    "        if len(stack) == 0 or c != pairs[stack.pop()]:\n",
    "            return False\n",
    "\n",
    "    return len(stack) == 0"
   ]
  },
  {
   "cell_type": "code",
   "execution_count": 2,
   "id": "e9d81382",
   "metadata": {},
   "outputs": [
    {
     "data": {
      "text/plain": [
       "True"
      ]
     },
     "execution_count": 2,
     "metadata": {},
     "output_type": "execute_result"
    }
   ],
   "source": [
    "isValid(\"(){}[]\")"
   ]
  },
  {
   "cell_type": "code",
   "execution_count": null,
   "id": "2dec4e57",
   "metadata": {},
   "outputs": [],
   "source": []
  }
 ],
 "metadata": {
  "kernelspec": {
   "display_name": "Python 3 (ipykernel)",
   "language": "python",
   "name": "python3"
  },
  "language_info": {
   "codemirror_mode": {
    "name": "ipython",
    "version": 3
   },
   "file_extension": ".py",
   "mimetype": "text/x-python",
   "name": "python",
   "nbconvert_exporter": "python",
   "pygments_lexer": "ipython3",
   "version": "3.8.10"
  }
 },
 "nbformat": 4,
 "nbformat_minor": 5
}
