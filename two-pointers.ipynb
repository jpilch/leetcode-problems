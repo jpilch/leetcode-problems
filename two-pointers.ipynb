{
 "cells": [
  {
   "cell_type": "markdown",
   "id": "d470c989",
   "metadata": {},
   "source": [
    "## [125. Valid Palindrome](https://leetcode.com/problems/valid-palindrome/)"
   ]
  },
  {
   "cell_type": "code",
   "execution_count": 3,
   "id": "13eb8e42",
   "metadata": {},
   "outputs": [],
   "source": [
    "import re"
   ]
  },
  {
   "cell_type": "code",
   "execution_count": 4,
   "id": "c62418dd",
   "metadata": {},
   "outputs": [],
   "source": [
    "# solution with stack, O(N)\n",
    "def isPalindrome(s):\n",
    "    if not s: return True\n",
    "\n",
    "    normalized = \"\"\n",
    "    stack = []\n",
    "    pattern = r\"[a-zA-Z0-9]\"\n",
    "\n",
    "    for c in s:\n",
    "        if re.match(pattern, c):\n",
    "            stack.append(c.lower())\n",
    "            normalized += c.lower()\n",
    "\n",
    "    for i, c in enumerate(normalized):\n",
    "        if (c != stack.pop()): return False\n",
    "\n",
    "    return True"
   ]
  },
  {
   "cell_type": "code",
   "execution_count": 5,
   "id": "4ae42746",
   "metadata": {},
   "outputs": [
    {
     "data": {
      "text/plain": [
       "True"
      ]
     },
     "execution_count": 5,
     "metadata": {},
     "output_type": "execute_result"
    }
   ],
   "source": [
    "isPalindrome(\"A man, a plan, a canal: Panama\")"
   ]
  },
  {
   "cell_type": "code",
   "execution_count": 18,
   "id": "700dcc16",
   "metadata": {},
   "outputs": [],
   "source": [
    "# solution with two pointers, O(N)\n",
    "def isPalindrome(s):\n",
    "    if not s: return True\n",
    "    \n",
    "    pattern = \"[a-zA-Z0-9]\"\n",
    "    normalized = \"\"    \n",
    "    for c in s:\n",
    "        if re.match(pattern, c):\n",
    "            normalized += c.lower()\n",
    "            \n",
    "    l, r = 0, len(normalized) - 1\n",
    "    while (l <= r):\n",
    "        if normalized[l] != normalized[r]:\n",
    "            return False\n",
    "        r -= 1\n",
    "        l += 1\n",
    "        \n",
    "    return True"
   ]
  },
  {
   "cell_type": "code",
   "execution_count": 19,
   "id": "e354c93c",
   "metadata": {},
   "outputs": [
    {
     "data": {
      "text/plain": [
       "True"
      ]
     },
     "execution_count": 19,
     "metadata": {},
     "output_type": "execute_result"
    }
   ],
   "source": [
    "isPalindrome(\"A man, a plan, a canal: Panama\")"
   ]
  },
  {
   "cell_type": "markdown",
   "id": "acbdf958",
   "metadata": {},
   "source": [
    "## [167. Two Sum II - Input Array Is Sorted](https://leetcode.com/problems/two-sum-ii-input-array-is-sorted/)"
   ]
  },
  {
   "cell_type": "code",
   "execution_count": 30,
   "id": "6ace91d0",
   "metadata": {},
   "outputs": [],
   "source": [
    "# two pointers, O(N) time, O(1) space \n",
    "def twoSum(arr, target):\n",
    "        l, r = 0, len(arr) - 1\n",
    "        diff = 0\n",
    "        inc = lambda x: x + 1\n",
    "        \n",
    "        while (True):\n",
    "            diff = target - arr[l]\n",
    "            while (arr[r] >= diff):\n",
    "                if (arr[r] == diff):\n",
    "                    return map(inc, (l, r))\n",
    "                r -= 1\n",
    "            l += 1\n",
    "        \n",
    "        return map(inc, (l, r))"
   ]
  },
  {
   "cell_type": "code",
   "execution_count": 31,
   "id": "3161fc3b",
   "metadata": {},
   "outputs": [
    {
     "data": {
      "text/plain": [
       "[2, 3]"
      ]
     },
     "execution_count": 31,
     "metadata": {},
     "output_type": "execute_result"
    }
   ],
   "source": [
    "list(twoSum([2,8,11,15,16,19,30], 19))"
   ]
  },
  {
   "cell_type": "code",
   "execution_count": null,
   "id": "54fd82f2",
   "metadata": {},
   "outputs": [],
   "source": []
  },
  {
   "cell_type": "code",
   "execution_count": null,
   "id": "921b1760",
   "metadata": {},
   "outputs": [],
   "source": []
  }
 ],
 "metadata": {
  "kernelspec": {
   "display_name": "Python 3 (ipykernel)",
   "language": "python",
   "name": "python3"
  },
  "language_info": {
   "codemirror_mode": {
    "name": "ipython",
    "version": 3
   },
   "file_extension": ".py",
   "mimetype": "text/x-python",
   "name": "python",
   "nbconvert_exporter": "python",
   "pygments_lexer": "ipython3",
   "version": "3.8.10"
  }
 },
 "nbformat": 4,
 "nbformat_minor": 5
}
